{
 "cells": [
  {
   "cell_type": "markdown",
   "metadata": {},
   "source": [
    "<center> <h2>Práctica 03</h2> </center>"
   ]
  },
  {
   "cell_type": "markdown",
   "metadata": {},
   "source": [
    "<center> <h2>PYTHON - Estructuras Condicionales</h2> </center>"
   ]
  },
  {
   "cell_type": "markdown",
   "metadata": {},
   "source": [
    "### 1. Introduccion a Listas"
   ]
  },
  {
   "cell_type": "code",
   "execution_count": 2,
   "metadata": {},
   "outputs": [
    {
     "name": "stdout",
     "output_type": "stream",
     "text": [
      "La frase inicia con la letra:  S\n",
      "La frase termina con la letra:  n\n"
     ]
    }
   ],
   "source": [
    "cadena = \"Si quieres aprender, enseña. Marco Tulio Cicerón\"\n",
    "\n",
    "print(\"La frase inicia con la letra: \",cadena[0])\n",
    "print(\"La frase termina con la letra: \",cadena[-1])"
   ]
  },
  {
   "cell_type": "code",
   "execution_count": 3,
   "metadata": {},
   "outputs": [
    {
     "name": "stdout",
     "output_type": "stream",
     "text": [
      "['Si', 'quieres', 'aprender,', 'enseña.', 'Marco', 'Tulio', 'Cicerón']\n"
     ]
    }
   ],
   "source": [
    "lista_de_cadena = cadena.split()\n",
    "\n",
    "print(lista_de_cadena)"
   ]
  },
  {
   "cell_type": "code",
   "execution_count": 5,
   "metadata": {},
   "outputs": [
    {
     "name": "stdout",
     "output_type": "stream",
     "text": [
      "['Luis', 'Pablo', 'Mili', 'Gabriela', 'Óscar']\n"
     ]
    }
   ],
   "source": [
    "lista_de_nombres = [\"Luis\", \"Pablo\", \"Mili\", \"Gabriela\", \"Óscar\"]\n",
    "\n",
    "print(lista_de_nombres)"
   ]
  },
  {
   "cell_type": "code",
   "execution_count": 8,
   "metadata": {},
   "outputs": [
    {
     "name": "stdout",
     "output_type": "stream",
     "text": [
      "[20, 30, 40, 50, 60]\n",
      "20\n",
      "300\n",
      "40\n",
      "\n",
      "\n",
      "['Luis', 'Pablo', 'Mili', 'Gabriela', 'Óscar']\n",
      "Luis\n",
      "ÓSCAR\n",
      "Mili\n"
     ]
    }
   ],
   "source": [
    "lista_de_números = [20, 30, 40, 50, 60]\n",
    "\n",
    "print(lista_de_números)\n",
    "print(lista_de_números[0])\n",
    "print(lista_de_números[-1]*5)\n",
    "print(lista_de_números[2])\n",
    "\n",
    "print(\"\\n\")\n",
    "\n",
    "print(lista_de_nombres)\n",
    "print(lista_de_nombres[0].title())\n",
    "print(lista_de_nombres[-1].upper())\n",
    "print(lista_de_nombres[2])"
   ]
  },
  {
   "cell_type": "markdown",
   "metadata": {},
   "source": [
    "#### Modificando elementos en una lista, porque la lista es mutable :"
   ]
  },
  {
   "cell_type": "code",
   "execution_count": 11,
   "metadata": {},
   "outputs": [
    {
     "name": "stdout",
     "output_type": "stream",
     "text": [
      "['iphone', 'sansung', 'huavei', 'motorola', 'xiaomi']\n",
      "['iphone', 'samsung', 'huawei', 'motorola', 'xiaomi']\n"
     ]
    }
   ],
   "source": [
    "celulares = [\"iphone\", \"sansung\", \"huavei\", \"motorola\", \"xiaomi\"]\n",
    "print(celulares)\n",
    "\n",
    "celulares[1]=\"samsung\"\n",
    "celulares[2]=\"huawei\"\n",
    "\n",
    "print(celulares)"
   ]
  },
  {
   "cell_type": "markdown",
   "metadata": {},
   "source": [
    "#### Adicionando elementos a una lista :"
   ]
  },
  {
   "cell_type": "code",
   "execution_count": 14,
   "metadata": {
    "scrolled": true
   },
   "outputs": [
    {
     "name": "stdout",
     "output_type": "stream",
     "text": [
      "['iphone', 'sansung', 'huavei', 'motorola', 'xiaomi', 'lg']\n",
      "['iphone', 'sansung', 'huavei', 'motorola', 'xiaomi', 'lg', 'zte', 'logic']\n"
     ]
    }
   ],
   "source": [
    "celulares = [\"iphone\", \"sansung\", \"huavei\", \"motorola\", \"xiaomi\"]\n",
    "celulares.append(\"lg\")\n",
    "print(celulares)\n",
    "\n",
    "cel = [\"zte\", \"logic\"]\n",
    "cel2 = celulares + cel\n",
    "print(cel2)"
   ]
  },
  {
   "cell_type": "markdown",
   "metadata": {},
   "source": [
    "#### Borrando elementos de una lista :"
   ]
  },
  {
   "cell_type": "code",
   "execution_count": 22,
   "metadata": {
    "scrolled": true
   },
   "outputs": [
    {
     "name": "stdout",
     "output_type": "stream",
     "text": [
      "\n",
      "Lista Celulares Original\n",
      "['iphone', 'sansung', 'huavei', 'motorola', 'xiaomi', 'lg', 'zte', 'logic']\n",
      "\n",
      "Lista vorrando el último celular\n",
      "['iphone', 'sansung', 'huavei', 'motorola', 'xiaomi', 'lg', 'zte']\n",
      "\n",
      "Lista borrando celular nuevamente\n",
      "['iphone', 'sansung', 'huavei', 'motorola', 'lg', 'zte']\n",
      "\\Equipo celular borrado\n",
      "XIAOMI\n",
      "\n",
      "Lista borrando celular LG\n",
      "['iphone', 'sansung', 'huavei', 'motorola', 'zte']\n",
      "\n",
      "El celular LG es muy malo para mi\n"
     ]
    }
   ],
   "source": [
    "celulares = ['iphone', 'sansung', 'huavei', 'motorola', 'xiaomi', 'lg', 'zte', 'logic']\n",
    "print(\"\\nLista Celulares Original\")\n",
    "print(celulares)\n",
    "\n",
    "del celulares [-1]\n",
    "print(\"\\nLista vorrando el último celular\")\n",
    "print(celulares)\n",
    "\n",
    "b_celular = celulares.pop(4)\n",
    "print(\"\\nLista borrando celular nuevamente\")\n",
    "print(celulares)\n",
    "print(\"\\Equipo celular borrado\")\n",
    "print(b_celular.upper())\n",
    "\n",
    "c_celular = \"lg\"\n",
    "celulares.remove(c_celular)\n",
    "print(f\"\\nLista borrando celular {c_celular.upper()}\")\n",
    "print(celulares)\n",
    "print(f\"\\nEl celular {c_celular.upper()} es muy malo para mi\")"
   ]
  },
  {
   "cell_type": "markdown",
   "metadata": {},
   "source": [
    "#### Ordenamos una lista :"
   ]
  },
  {
   "cell_type": "code",
   "execution_count": 23,
   "metadata": {},
   "outputs": [
    {
     "name": "stdout",
     "output_type": "stream",
     "text": [
      "\n",
      "Lista Original\n",
      "['mazda', 'audi', 'toyota', 'subaru', 'bmw', 'lamborghini']\n",
      "\n",
      "Lista Ordenada\n",
      "['audi', 'bmw', 'lamborghini', 'mazda', 'subaru', 'toyota']\n",
      "\n",
      "Lista Ordenada a la Inversa\n",
      "['toyota', 'subaru', 'mazda', 'lamborghini', 'bmw', 'audi']\n"
     ]
    }
   ],
   "source": [
    "autos = [\"mazda\", \"audi\", \"toyota\", \"subaru\", \"bmw\", \"lamborghini\"]\n",
    "print(\"\\nLista Original\")\n",
    "print(autos)\n",
    "\n",
    "print(\"\\nLista Ordenada\")\n",
    "autos.sort()\n",
    "print(autos)\n",
    "\n",
    "print(\"\\nLista Ordenada a la Inversa\")\n",
    "autos.reverse()\n",
    "print(autos)"
   ]
  },
  {
   "cell_type": "code",
   "execution_count": 24,
   "metadata": {},
   "outputs": [
    {
     "name": "stdout",
     "output_type": "stream",
     "text": [
      "\n",
      "Lista Original\n",
      "[200, 600, 10, 2000, -5, 50, 110, 1500]\n",
      "\n",
      "Lista Ordenada Temporal\n",
      "[-5, 10, 50, 110, 200, 600, 1500, 2000]\n",
      "\n",
      "Lista Original de Nuevo\n",
      "[200, 600, 10, 2000, -5, 50, 110, 1500]\n"
     ]
    }
   ],
   "source": [
    "num = [200, 600, 10, 2000, -5, 50, 110, 1500]\n",
    "print(\"\\nLista Original\")\n",
    "print(num)\n",
    "\n",
    "print(\"\\nLista Ordenada Temporal\")\n",
    "print(sorted(num))\n",
    "\n",
    "print(\"\\nLista Original de Nuevo\")\n",
    "print(num)"
   ]
  },
  {
   "cell_type": "markdown",
   "metadata": {},
   "source": [
    "#### Longitud de una lista :"
   ]
  },
  {
   "cell_type": "code",
   "execution_count": 25,
   "metadata": {},
   "outputs": [
    {
     "name": "stdout",
     "output_type": "stream",
     "text": [
      "\n",
      "Cantidad de autos\n",
      "6\n",
      "\n",
      "Cantidad de números\n",
      "8\n"
     ]
    }
   ],
   "source": [
    "print(\"\\nCantidad de autos\")\n",
    "print(len(autos))\n",
    "\n",
    "print(\"\\nCantidad de números\")\n",
    "print(len(num))"
   ]
  },
  {
   "cell_type": "markdown",
   "metadata": {},
   "source": [
    "### 2. Estructuras Condicionales"
   ]
  },
  {
   "cell_type": "markdown",
   "metadata": {},
   "source": [
    "#### Condiciones Simples"
   ]
  },
  {
   "cell_type": "code",
   "execution_count": 26,
   "metadata": {
    "scrolled": true
   },
   "outputs": [
    {
     "name": "stdout",
     "output_type": "stream",
     "text": [
      "True\n",
      "False\n"
     ]
    }
   ],
   "source": [
    "x = \"Guido\"\n",
    "print(\"i\" in x)\n",
    "print(\"i\" not in x)\n"
   ]
  },
  {
   "cell_type": "code",
   "execution_count": 27,
   "metadata": {},
   "outputs": [
    {
     "name": "stdout",
     "output_type": "stream",
     "text": [
      "False\n",
      "True\n"
     ]
    }
   ],
   "source": [
    "lista = [\"uva\", \"naranja\", \"pera\", \"manzana\"]\n",
    "print(\"papa\" in lista)\n",
    "print(\"uva\" in lista)"
   ]
  },
  {
   "cell_type": "code",
   "execution_count": 28,
   "metadata": {},
   "outputs": [
    {
     "name": "stdout",
     "output_type": "stream",
     "text": [
      "100 Es igual que:  200   ====>> False\n"
     ]
    }
   ],
   "source": [
    "x = 100\n",
    "y = 200\n",
    "print(x, \"Es igual que: \",y,\"  ====>>\", x ==y)"
   ]
  },
  {
   "cell_type": "code",
   "execution_count": 29,
   "metadata": {},
   "outputs": [
    {
     "name": "stdout",
     "output_type": "stream",
     "text": [
      "100 Es igual que:  100   ====>> True\n"
     ]
    }
   ],
   "source": [
    "x = 100\n",
    "y = 100\n",
    "print(x, \"Es igual que: \",y,\"  ====>>\", x ==y)"
   ]
  },
  {
   "cell_type": "code",
   "execution_count": 32,
   "metadata": {},
   "outputs": [
    {
     "name": "stdout",
     "output_type": "stream",
     "text": [
      " 1 < 7 =  True\n",
      " 2 > 9 =  False\n",
      " 10 == 20 =  False\n",
      " escuela == casa =  False\n",
      " Python != Java =  True\n"
     ]
    }
   ],
   "source": [
    "print(\" 1 < 7 = \", 1<7)\n",
    "print(\" 2 > 9 = \", 2>=9)\n",
    "print(\" 10 == 20 = \", 10 == 20)\n",
    "print(\" escuela == casa = \", \"escuela\" == \"casa\")\n",
    "print(\" Python != Java = \", \"Python\" != \"Java\")\n"
   ]
  },
  {
   "cell_type": "code",
   "execution_count": 37,
   "metadata": {},
   "outputs": [
    {
     "name": "stdout",
     "output_type": "stream",
     "text": [
      "El número 20 es válido\n",
      "El cuadrado del número 20 es:  400\n"
     ]
    }
   ],
   "source": [
    "x = 20\n",
    "\n",
    "if x>0:\n",
    "    print(\"El número\",x,\"es válido\")\n",
    "    print(\"El cuadrado del número\",x,\"es: \", x*x)\n",
    "\n"
   ]
  },
  {
   "cell_type": "code",
   "execution_count": 38,
   "metadata": {},
   "outputs": [
    {
     "name": "stdout",
     "output_type": "stream",
     "text": [
      "El numero mayor es: 45\n"
     ]
    }
   ],
   "source": [
    "n = 45\n",
    "m = 20\n",
    "if n>m:\n",
    "    print(\"El numero mayor es: \" +str(n))\n",
    "else:\n",
    "    print(\"El numero mayor es: \" +str(m))"
   ]
  },
  {
   "cell_type": "code",
   "execution_count": 39,
   "metadata": {},
   "outputs": [
    {
     "name": "stdout",
     "output_type": "stream",
     "text": [
      "Ingrese el primer número: 20\n",
      "Ingrese el segundo número: 15\n",
      "Ingrese el tercer número: 12\n",
      "El numero mayores: 20\n",
      "El numero mayores: 20\n"
     ]
    }
   ],
   "source": [
    "a = int(input(\"Ingrese el primer número: \"))\n",
    "b = int(input(\"Ingrese el segundo número: \"))\n",
    "c = int(input(\"Ingrese el tercer número: \"))\n",
    "\n",
    "if a>b:\n",
    "    if a>c:\n",
    "        m=a\n",
    "    else:\n",
    "        m = c\n",
    "else:\n",
    "    if b>c:\n",
    "        m=b\n",
    "    else:\n",
    "        m=c\n",
    "    \n",
    "print(\"El numero mayores: \" +str(m))\n",
    "print(\"El numero mayores: {}\".format(m))"
   ]
  },
  {
   "cell_type": "code",
   "execution_count": 41,
   "metadata": {},
   "outputs": [
    {
     "name": "stdout",
     "output_type": "stream",
     "text": [
      "Ingrese su nombre: aron\n",
      "Aron Contiene la vocal a\n"
     ]
    }
   ],
   "source": [
    "nombre = input(\"Ingrese su nombre: \")\n",
    "\n",
    "if \"a\" in nombre:\n",
    "    print(nombre.title() + \" Contiene la vocal a\")\n",
    "elif \"e\" in nombre:\n",
    "    print(nombre.title() + \" Contiene lavocal e\")\n",
    "elif \"i\" in nombre:\n",
    "    print(nombre.title() + \" Contiene lavocal i\")\n",
    "elif \"o\" in nombre:\n",
    "    print(nombre.title() + \" Contiene lavocal o\")\n",
    "elif \"u\" in nombre:\n",
    "    print(nombre.title() + \" Contiene lavocal u\")\n",
    "else:\n",
    "    print(\"¡Que nombre tan extraño!!!!\")"
   ]
  },
  {
   "cell_type": "markdown",
   "metadata": {},
   "source": [
    "## Ejemplos:"
   ]
  },
  {
   "cell_type": "markdown",
   "metadata": {},
   "source": [
    "### Listas\n",
    "\n",
    "#### Operadores con varias variables:"
   ]
  },
  {
   "cell_type": "code",
   "execution_count": 2,
   "metadata": {},
   "outputs": [
    {
     "name": "stdout",
     "output_type": "stream",
     "text": [
      "[10, 20, 30, 40, 50, 60]\n"
     ]
    }
   ],
   "source": [
    "lista1 = [10, 20, 30]\n",
    "lista2 = [40, 50, 60]\n",
    "print(lista1 + lista2)"
   ]
  },
  {
   "cell_type": "markdown",
   "metadata": {},
   "source": [
    "#### Mejorando la impresión de varias listas:"
   ]
  },
  {
   "cell_type": "code",
   "execution_count": 5,
   "metadata": {},
   "outputs": [
    {
     "name": "stdout",
     "output_type": "stream",
     "text": [
      "Mi auto es: Mazda\n",
      "Mi auto Toyota tiene 2 puertas\n"
     ]
    }
   ],
   "source": [
    "listaA = [\"audi\", \"toyota\", \"mazda\"]\n",
    "puerta = [2, 4]\n",
    "\n",
    "print(\"Mi auto es: \" +listaA[-1].title())\n",
    "print(f\"Mi auto {listaA[-2].title()} tiene {puerta[-2]} puertas\")"
   ]
  },
  {
   "cell_type": "markdown",
   "metadata": {},
   "source": [
    "#### Operadores matemáticos de una lista:"
   ]
  },
  {
   "cell_type": "code",
   "execution_count": 6,
   "metadata": {},
   "outputs": [
    {
     "name": "stdout",
     "output_type": "stream",
     "text": [
      "7600\n",
      "7000\n",
      "-200\n"
     ]
    }
   ],
   "source": [
    "lista3 = [100, 500, 200, 7000, -200]\n",
    "\n",
    "print(sum(lista3))\n",
    "print(max(lista3))\n",
    "print(min(lista3))"
   ]
  },
  {
   "cell_type": "code",
   "execution_count": 7,
   "metadata": {},
   "outputs": [
    {
     "name": "stdout",
     "output_type": "stream",
     "text": [
      "[0, 1, 2, 3, 4, 5, 6]\n",
      "[1, 2, 3, 4, 5, 6, 7, 8, 9]\n",
      "[-10, -9, -8, -7, -6, -5, -4, -3, -2, -1, 0, 1]\n",
      "[200, 180, 160, 140, 120]\n",
      "[]\n"
     ]
    }
   ],
   "source": [
    "lista1 = list(range(7))\n",
    "lista2 = list(range(1,10))\n",
    "lista3 = list(range(-10,2))\n",
    "lista4 = list(range(200,100,-20))\n",
    "lista5 = list(range(200,100,20))\n",
    "\n",
    "print(lista1)\n",
    "print(lista2)\n",
    "print(lista3)\n",
    "print(lista4)\n",
    "print(lista5)"
   ]
  },
  {
   "cell_type": "markdown",
   "metadata": {},
   "source": [
    "### Condicionales\n",
    "\n",
    "#### Hacer un programa que determine si un número ingresado por pantalla es positivo o negativo"
   ]
  },
  {
   "cell_type": "code",
   "execution_count": 9,
   "metadata": {},
   "outputs": [
    {
     "name": "stdout",
     "output_type": "stream",
     "text": [
      "Ingrese un número entero, positivo o negativo: -15\n",
      "\n",
      "El número: -15\n",
      "Es número: negativo\n"
     ]
    }
   ],
   "source": [
    "#Método 1: Usando if Anidado\n",
    "x = int(input(\"Ingrese un número entero, positivo o negativo: \"))\n",
    "if x > 0:\n",
    "    y = \"positivo\"\n",
    "else:\n",
    "    if x < 0:\n",
    "        y = \"negativo\"\n",
    "    else:\n",
    "        if x == 0:\n",
    "            y = \"cero\"\n",
    "print(\"\\nEl número: {}\".format(x))\n",
    "print(\"Es número: {}\".format(y))"
   ]
  },
  {
   "cell_type": "code",
   "execution_count": 12,
   "metadata": {},
   "outputs": [
    {
     "name": "stdout",
     "output_type": "stream",
     "text": [
      "Ingrese un número entero, positivo o negativo: 7\n",
      "\n",
      "El número: 7\n",
      "Es un número: positivo\n"
     ]
    }
   ],
   "source": [
    "#Método 2: Usando elif\n",
    "def det(xx):\n",
    "    if xx < 0:\n",
    "        p = \"negativo\"\n",
    "    elif xx > 0:\n",
    "        p = \"positivo\"\n",
    "    else:\n",
    "        p = \"cero\"\n",
    "        print(p)\n",
    "    return p\n",
    "\n",
    "num = int(input(\"Ingrese un número entero, positivo o negativo: \"))\n",
    "resp = det(num)\n",
    "\n",
    "print(\"\\nEl número: {}\".format(num))\n",
    "print(\"Es un número: {}\".format(resp))"
   ]
  },
  {
   "cell_type": "markdown",
   "metadata": {},
   "source": [
    "#### Hacer un programa que pueda ingresar radio del círculo y calcule: Perímetro, Área y Diámetro"
   ]
  },
  {
   "cell_type": "code",
   "execution_count": 22,
   "metadata": {},
   "outputs": [
    {
     "name": "stdout",
     "output_type": "stream",
     "text": [
      "Ingrese radio del círculo: 15\n",
      "Seleccione una opcion: \n",
      "a) Calcular el diametro: \n",
      "b) Calcular el perimetro: \n",
      "c) Calcular el area: \n",
      "Digita a, b, o c y presiona enter: c\n",
      "\n",
      "El area del círculo es: 706.8583470577034.\n"
     ]
    }
   ],
   "source": [
    "#Método 1: Utilizando if anidado\n",
    "from math import pi\n",
    "radio = float(input(\"Ingrese radio del círculo: \"))\n",
    "print(\"Seleccione una opcion: \")\n",
    "print(\"a) Calcular el diametro: \")\n",
    "print(\"b) Calcular el perimetro: \")\n",
    "print(\"c) Calcular el area: \")\n",
    "opcion = input(\"Digita a, b, o c y presiona enter: \")\n",
    "\n",
    "if opcion == \"a\":\n",
    "    diametro = 2*radio\n",
    "    print(\"\\nEl diametro del círculo es: {0}.\".format(diametro))\n",
    "else:\n",
    "    if opcion == \"b\":\n",
    "        perimetro = 2*pi*radio\n",
    "        print(\"\\nEl perimetro del círculo es: {0}.\".format(perimetro))\n",
    "    else:\n",
    "        if opcion == \"c\":\n",
    "                area = pi*radio**2\n",
    "                print(\"\\nEl area del círculo es: {0}.\".format(area))\n",
    "        else:\n",
    "            print(\"\\nSolo hay tres opciones: a, b, c.\")\n",
    "            print('Tu has tecleado \"{0}\".'.format(opcion))"
   ]
  },
  {
   "cell_type": "code",
   "execution_count": 24,
   "metadata": {},
   "outputs": [
    {
     "name": "stdout",
     "output_type": "stream",
     "text": [
      "Ingrese el radio del circulo: 7\n",
      "Seleccione una opcion: \n",
      "a) Calcular el diametro: \n",
      "b) Calcular el perimetro: \n",
      "c) Calcular el area: \n",
      "Digita a, b, o c y presiona enter: b\n",
      "El perimetro del circulo es: 43.982297150257104.\n"
     ]
    }
   ],
   "source": [
    "#Método 3: Utilizando elif\n",
    "from math import pi\n",
    "radio = float(input(\"Ingrese el radio del circulo: \"))\n",
    "print(\"Seleccione una opcion: \")\n",
    "print(\"a) Calcular el diametro: \")\n",
    "print(\"b) Calcular el perimetro: \")\n",
    "print(\"c) Calcular el area: \")\n",
    "opcion = input(\"Digita a, b, o c y presiona enter: \")\n",
    "\n",
    "if opcion == \"a\":\n",
    "    diametro = 2* radio\n",
    "    print(\"El diametro del circulo es: {0}.\".format(diametro))\n",
    "elif opcion == \"b\":\n",
    "    perimetro = 2*pi*radio\n",
    "    print(\"El perimetro del circulo es: {0}.\".format(perimetro))\n",
    "elif opcion == \"c\":\n",
    "    area = pi*radio**2\n",
    "    print(\"El area del circulo es: {0}.\".format(area))\n",
    "else: \n",
    "    print(\"Solo hay tres opciones: a, b, c.\")\n",
    "    print('Tu has tecleado \"{0}\".'.format(opcion))"
   ]
  },
  {
   "cell_type": "markdown",
   "metadata": {},
   "source": [
    "#### Hacer un programa que verifique si se ha comprado carne en la lista de mercado para hacer parrillada"
   ]
  },
  {
   "cell_type": "code",
   "execution_count": 25,
   "metadata": {},
   "outputs": [
    {
     "name": "stdout",
     "output_type": "stream",
     "text": [
      "Hoy comemos rica parrila!!!!!\n"
     ]
    }
   ],
   "source": [
    "alimento = [\"arroz\", \"papas\", \"camotes\", \"leche\", \"carne\", \"cebolla\", \"tomate\", \"lechuga\"]\n",
    "if \"carne\" in alimento:\n",
    "    print(\"Hoy comemos rica parrila!!!!!\")\n",
    "else:\n",
    "    print(\"Hoy comemos verduras\")"
   ]
  },
  {
   "cell_type": "markdown",
   "metadata": {},
   "source": [
    "#### Hacer un programa que verifique en una jugeria si tienen la fruta que deseas y te prepare un jugo"
   ]
  },
  {
   "cell_type": "code",
   "execution_count": 27,
   "metadata": {},
   "outputs": [
    {
     "name": "stdout",
     "output_type": "stream",
     "text": [
      "Ingresa la fruta que deseas comer hoy: papaya\n",
      "\n",
      "Hoy no tenemos PAPAYA, pero regresa mañana\n",
      "\n",
      "Gracias por tu preferencia !!!, Vuelve pronto\n"
     ]
    }
   ],
   "source": [
    "def preparar(fruit):\n",
    "    if fruit in fruta:\n",
    "        print(f\"\\nSi tenemos {antojo.upper()} !!!, te preparamos un Jugo\")\n",
    "    else: \n",
    "        print(f\"\\nHoy no tenemos {antojo.upper()}, pero regresa mañana\")\n",
    "              \n",
    "fruta = [\"platano\", \"manzana\", \"pera\", \"naranja\", \"mandarina\", \"uva\"]\n",
    "antojo = input(\"Ingresa la fruta que deseas comer hoy: \")\n",
    "preparar(antojo)\n",
    "print(\"\\nGracias por tu preferencia !!!, Vuelve pronto\")"
   ]
  },
  {
   "cell_type": "markdown",
   "metadata": {},
   "source": [
    "#### Hacer un programa que verifique mayoria de edad"
   ]
  },
  {
   "cell_type": "code",
   "execution_count": 29,
   "metadata": {},
   "outputs": [
    {
     "name": "stdout",
     "output_type": "stream",
     "text": [
      "Ingresa tu nombre: Aron\n",
      "Ingrese su edad: 18\n",
      "\n",
      "ARON es Mayor de edad con 18 años de edad\n"
     ]
    }
   ],
   "source": [
    "def mayoria(nom,xx):\n",
    "    if xx >= 18:\n",
    "        print(f\"\\n{nom.upper()} es Mayor de edad con {xx} años de edad\")\n",
    "    else:\n",
    "        print(f\"\\n{nom.upper()} es Menor de edad con {xx} años de edad\")\n",
    "        \n",
    "nombre = input(\"Ingresa tu nombre: \")\n",
    "edad = int(input(\"Ingrese su edad: \"))\n",
    "\n",
    "mayoria(nombre,edad)"
   ]
  }
 ],
 "metadata": {
  "kernelspec": {
   "display_name": "Python 3",
   "language": "python",
   "name": "python3"
  },
  "language_info": {
   "codemirror_mode": {
    "name": "ipython",
    "version": 3
   },
   "file_extension": ".py",
   "mimetype": "text/x-python",
   "name": "python",
   "nbconvert_exporter": "python",
   "pygments_lexer": "ipython3",
   "version": "3.8.12"
  }
 },
 "nbformat": 4,
 "nbformat_minor": 5
}
