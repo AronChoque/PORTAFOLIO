{
 "cells": [
  {
   "cell_type": "markdown",
   "id": "e69e69f7",
   "metadata": {},
   "source": [
    " # <center> UNIVERSIDAD NACIONAL DE SAN AGUSTIN</center>"
   ]
  },
  {
   "cell_type": "markdown",
   "id": "71dd4289",
   "metadata": {},
   "source": [
    "## <center> FACULTAD DE INGENIERÍA DE PRODUCCIÓN Y SERVICIOS</center>"
   ]
  },
  {
   "cell_type": "markdown",
   "id": "df06554e",
   "metadata": {},
   "source": [
    "## <center> ESCUELA PROFESIONAL DE INGENIERIA EN TELECOMUNICACIONES</center>"
   ]
  },
  {
   "attachments": {
    "images.png": {
     "image/png": "[encoded data removed]"
    }
   },
   "cell_type": "markdown",
   "id": "ff165573",
   "metadata": {},
   "source": [
    "![images.png](attachment:images.png)"
   ]
  },
  {
   "cell_type": "markdown",
   "id": "40d836c6",
   "metadata": {},
   "source": [
    "## <center> COMPUTACIÓN 1</center>"
   ]
  },
  {
   "cell_type": "markdown",
   "id": "9cad1250",
   "metadata": {},
   "source": [
    "### GRUPO: 5"
   ]
  },
  {
   "cell_type": "markdown",
   "id": "3721fa02",
   "metadata": {},
   "source": [
    "**Profesor:** \n",
    "+ Bolivar Valdivia Renzo Gustavo"
   ]
  },
  {
   "cell_type": "markdown",
   "id": "df5f360e",
   "metadata": {},
   "source": [
    "**INTEGRANTES:**\n",
    "+ Barrera Begazo Raquel Yoselin\n",
    "+ Canazas Quispe Yadira Yuseika\n",
    "+ Choque Palomino Aron Adriano\n",
    "+ Cruz Alvarado Álvaro Macario\n",
    "+ Gómez Ramos Jhair Andree\n",
    "+ Palma Layme Axel Scott\n",
    "+ Rosas Huaihua Derek Joe"
   ]
  },
  {
   "attachments": {
    "WhatsApp%20Image%202021-10-14%20at%2018.39.32.jpeg": {
     "image/jpeg": "[encoded data removed]"
    }
   },
   "cell_type": "markdown",
   "id": "8aa7c504",
   "metadata": {},
   "source": [
    "![WhatsApp%20Image%202021-10-14%20at%2018.39.32.jpeg](attachment:WhatsApp%20Image%202021-10-14%20at%2018.39.32.jpeg)"
   ]
  },
  {
   "cell_type": "markdown",
   "id": "e13ba63f",
   "metadata": {},
   "source": [
    "# <center> EJERCICIOS</center>"
   ]
  },
  {
   "cell_type": "markdown",
   "id": "f3952e55",
   "metadata": {},
   "source": [
    "**EJERCICIO 1:**  Hacer un programa que verifique la lista existente de compras de una Jugería, si se compro:\n",
    "  + \"manzanas\" o \"peras\" y si es Lunes, debera indicar que se puede desayunar jugo de dichas frutas.\n",
    "  + \"platano\" o \"fresa\" y \"leche\" y siendo Martes, debera indicar que se puede desayunar jugo de leche de dichas frutas.\n",
    "  + \"yogurt\" y \"cereales\" y siendo Miercoles, debera indicar que se tomara dicho desayuno.\n",
    "  + Si es del Jueves al Domingo verificar si hay papaya, debera indicar que se puede desayuinar dicha fruta.\n",
    "(Utilizar listas y funciones)"
   ]
  },
  {
   "cell_type": "code",
   "execution_count": 5,
   "id": "6741d44a",
   "metadata": {},
   "outputs": [
    {
     "name": "stdout",
     "output_type": "stream",
     "text": [
      "¡¡¡BIENVENIDO A NUESTRA JUGUERÍA!!!\n",
      "\n",
      "\n",
      "Tenemos estás opciones... \n",
      "\n",
      "Desayunos: \n",
      "\n",
      "Lunes:['manzana', 'pera']\n",
      "\n",
      "Martes:['platano', 'fresa', 'leche']\n",
      "\n",
      "Miercoles:['yogurt', 'cereales']\n",
      "\n",
      "Jueves a Domingo:['papaya']\n",
      "\n",
      "\n",
      "Digite, para preparar:\n",
      "\n",
      "Primer Desayuno:  manzana\n",
      "\n",
      "Segundo Desayuno: pera\n",
      "\n",
      "Seleccione una opción: \n",
      "\n",
      "\n",
      "a) Lunes \n",
      "b) Martes \n",
      "c) Miercoles \n",
      "d) Jueves a Domingo\n",
      "Digita a, b, c o d y presiona enter:a\n",
      "\n",
      "\n",
      "Sí disponemos de esa fruta, enseguida sale su jugo!\n",
      "\n",
      "\n",
      " GRACIAS!!!\n"
     ]
    }
   ],
   "source": [
    "print(\"¡¡¡BIENVENIDO A NUESTRA JUGUERÍA!!!\")\n",
    "print(\"\\n\")\n",
    "print(\"Tenemos estás opciones... \\n\")\n",
    "Lunes = [\"manzana\", \"pera\"]\n",
    "Martes = [\"platano\", \"fresa\", \"leche\"]\n",
    "Miercoles = [\"yogurt\", \"cereales\"]\n",
    "JuevesaDomingo = [\"papaya\"]\n",
    "\n",
    "print(\"Desayunos: \")\n",
    "print(\"\\nLunes:\" + str(Lunes))\n",
    "print(\"\\nMartes:\" + str(Martes))\n",
    "print(\"\\nMiercoles:\" + str(Miercoles))\n",
    "print(\"\\nJueves a Domingo:\" + str(JuevesaDomingo))\n",
    "print(\"\\n\")\n",
    "\n",
    "\n",
    "print(\"Digite, para preparar:\")\n",
    "desayuno1 = input(\"\\nPrimer Desayuno:  \")\n",
    "desayuno2 = input(\"\\nSegundo Desayuno: \")\n",
    "\n",
    "\n",
    "#Menú\n",
    "print(\"\\nSeleccione una opción: \")\n",
    "print(\"\\n\")\n",
    "print(\"a) Lunes \")\n",
    "print(\"b) Martes \")\n",
    "print(\"c) Miercoles \")\n",
    "print(\"d) Jueves a Domingo\")\n",
    "\n",
    "opcion = input(\"Digita a, b, c o d y presiona enter:\")\n",
    "print('\\n')\n",
    "\n",
    "if opcion == \"a\":\n",
    "    if desayuno1 in Lunes:\n",
    "        print(\"Sí disponemos de esa fruta, enseguida sale su jugo!\")\n",
    "    elif desayuno2 in Lunes:\n",
    "        print(\"Sí disponemos de esa fruta, enseguida sale su jugo!\")\n",
    "    else:\n",
    "        print(\"Lo sentimos, no disponemos de esa fruta hoy. \\nElija otra fruta o vuelva otro día\")\n",
    "elif opcion == \"b\":\n",
    "    if desayuno1 in Martes:\n",
    "        print(\"Sí disponemos de esa fruta, enseguida sale su jugo!\")\n",
    "    elif desayuno2 in Martes:\n",
    "        print(\"Sí disponemos de esa fruta, enseguida sale su jugo!\")\n",
    "    else:\n",
    "        print(\"Lo sentimos, no disponemos de esa fruta hoy. \\nElija otra fruta o vuelva otro día\")\n",
    "elif opcion == \"c\":\n",
    "    if desayuno1 in Miercoles:\n",
    "        print(\"Sí disponemos de esa fruta, enseguida sale su jugo!\")\n",
    "    elif desayuno2 in Miercoles:\n",
    "        print(\"Sí disponemos de esa fruta, enseguida sale su jugo!\")\n",
    "    else:\n",
    "        print(\"Lo sentimos, no disponemos de ese desayuno hoy. \\nElija otra fruta o vuelva otro día\")\n",
    "elif opcion == \"d\":\n",
    "    if desayuno1 in JuevesaDomingo:\n",
    "        print(\"Sí disponemos de esa fruta, enseguida sale su jugo!\")\n",
    "    elif desayuno2 in JuevesaDomingo:\n",
    "        print(\"Sí disponemos de esa fruta, enseguida sale su jugo!\")\n",
    "    else:\n",
    "        print(\"Lo sentimos, no disponemos de ese desayuno hoy. \\nElija otra fruta/desayuno o vuelva otro día\")\n",
    "print('\\n')\n",
    "print(\" GRACIAS!!!\")"
   ]
  },
  {
   "cell_type": "markdown",
   "id": "2a967968",
   "metadata": {},
   "source": [
    "**EJERCICIO 2:** Hacer un programa que ingrese por teclado 20 numeros y luego visualizar un menu de opciones para hallar los valores estadisticos: media, mediana y frecuencia. Utilizar listas y funciones ."
   ]
  },
  {
   "cell_type": "code",
   "execution_count": 2,
   "id": "d50b76eb",
   "metadata": {},
   "outputs": [
    {
     "name": "stdout",
     "output_type": "stream",
     "text": [
      "*RECOMENDACIÓN*: Al escribir un número entero escríbalo usando el punto decimal (ejm: 4.0 )\n",
      "Ingrese el primer número: 4.0\n",
      "Ingrese el segundo número: 4.0\n",
      "Ingrese el tercer número: 5.0\n",
      "Ingrese el cuarto número: 5.0\n",
      "Ingrese el quinto número: 7.0\n",
      "Ingrese el sexto número: 9.0\n",
      "Ingrese el séptimo número: 1.0\n",
      "Ingrese el octavo número: 3.0\n",
      "Ingrese el noveno número: 5.5\n",
      "Ingrese el décimo número: 7.4\n",
      "Ingrese el onceavo número: 5.6\n",
      "Ingrese el doceavo número: 4.0\n",
      "Ingrese el treceavo número: 4.0\n",
      "Ingrese el catorceavo número: 9.0\n",
      "Ingrese el quinceavo número: 8.0\n",
      "Ingrese el dieciseisavo número: 6.4\n",
      "Ingrese el diecisieteavo número: 7.0\n",
      "Ingrese el dieciochoavo número: 4.0\n",
      "Ingrese el diecinueveavo número: 4.0\n",
      "Ingrese el veinteavo número: 8.7\n",
      "Seleccione una opción: \n",
      "a) Calcular la Media Aritmética.\n",
      "b) Calcular la Frecuencia.\n",
      "c) Calcular la Mediana.\n",
      "Escoja su opción; digitando a, b, o c y presione enter: b\n",
      "\n",
      "La Frecuencia es:\n",
      "4.0\n"
     ]
    }
   ],
   "source": [
    "print(\"*RECOMENDACIÓN*: Al escribir un número entero escríbalo usando el punto decimal (ejm: 4.0 )\")\n",
    "\n",
    "n1 = float(input(\"Ingrese el primer número: \"))\n",
    "n2 = float(input(\"Ingrese el segundo número: \"))\n",
    "n3 = float(input(\"Ingrese el tercer número: \"))\n",
    "n4 = float(input(\"Ingrese el cuarto número: \"))\n",
    "n5 = float(input(\"Ingrese el quinto número: \"))\n",
    "n6 = float(input(\"Ingrese el sexto número: \"))\n",
    "n7 = float(input(\"Ingrese el séptimo número: \"))\n",
    "n8 = float(input(\"Ingrese el octavo número: \"))\n",
    "n9 = float(input(\"Ingrese el noveno número: \"))\n",
    "n10 = float(input(\"Ingrese el décimo número: \"))\n",
    "n11 = float(input(\"Ingrese el onceavo número: \"))\n",
    "n12 = float(input(\"Ingrese el doceavo número: \"))\n",
    "n13 = float(input(\"Ingrese el treceavo número: \"))\n",
    "n14 = float(input(\"Ingrese el catorceavo número: \"))\n",
    "n15 = float(input(\"Ingrese el quinceavo número: \"))\n",
    "n16 = float(input(\"Ingrese el dieciseisavo número: \"))\n",
    "n17 = float(input(\"Ingrese el diecisieteavo número: \"))\n",
    "n18 = float(input(\"Ingrese el dieciochoavo número: \"))\n",
    "n19 = float(input(\"Ingrese el diecinueveavo número: \"))\n",
    "n20 = float(input(\"Ingrese el veinteavo número: \"))\n",
    "\n",
    "a=[(n1),(n2),(n3),(n4),(n5),(n6),(n7),(n8),(n9),(n10),(n11),(n12),(n13),(n14),(n15),(n16),(n17),(n18),(n19),(n20)]\n",
    "\n",
    "from statistics import mode\n",
    "from statistics import median\n",
    "\n",
    "#MENÚ\n",
    "print(\"Seleccione una opción: \")\n",
    "print(\"a) Calcular la Media Aritmética.\")\n",
    "print(\"b) Calcular la Frecuencia.\")\n",
    "print(\"c) Calcular la Mediana.\")\n",
    "opcion = input(\"Escoja su opción; digitando a, b, o c y presione enter: \")\n",
    "if opcion == \"a\":\n",
    "    media = ((n1+n2+n3+n4+n5+n6+n7+n8+n9+n10+n11+n12+n13+n14+n15+n16+n17+n18+n19+n20) / 20)\n",
    "    print(\"\\nLa media aritmética es {0}.\".format(media))\n",
    "else:\n",
    "    if opcion == \"b\":\n",
    "        print(\"\\nLa Frecuencia es:\")\n",
    "        print(float(mode(a)))\n",
    "    else:\n",
    "        if opcion == \"c\":\n",
    "            a.sort()\n",
    "            print(\"\\nLa mediana es.\")\n",
    "            print(float(median(a)))\n",
    "        else:\n",
    "            print(\"\\nSolo hay tres opciones: a, b, c.\")\n",
    "            print('Usted ha tecleado \"{0}\".'.format(opcion))"
   ]
  },
  {
   "cell_type": "markdown",
   "id": "0a4087ca",
   "metadata": {},
   "source": [
    "**EJERCICIO 3:** Hacer un programa que ingrese por teclado 10 objetos de casa, luego visualizar un menu de opciones para ordenar la lista e imprimir de forma: \n",
    "+ ordenar de forma ascendente \n",
    "+ ordenar de forma descendente. (Utilizar listas y funciones)"
   ]
  },
  {
   "cell_type": "code",
   "execution_count": 4,
   "id": "cc9f30d5",
   "metadata": {},
   "outputs": [
    {
     "name": "stdout",
     "output_type": "stream",
     "text": [
      "LISTA DE OBJETOS DEL HOGAR : \n",
      "Ingrese el primer objeto: puerta\n",
      "Ingrese el segundo objeto: ventana\n",
      "Ingrese el tercer objeto: armario\n",
      "Ingrese el cuarto objeto: espejo\n",
      "Ingrese el quinto objeto: lavadora\n",
      "Ingrese el sexto objeto: mesa\n",
      "Ingrese el séptimo objeto: silla\n",
      "Ingrese el octavo objeto: cocina\n",
      "Ingrese el noveno objeto: cuadros\n",
      "Ingrese el décimo objeto: cuchara\n",
      "Seleccione una opción :\n",
      "a): Lista Ordenada de manera Ascendente\n",
      "b): Lista Ordenada de manera Descendente\n",
      "Escoja su opción; digitando a) o b) y presione enter:b\n",
      "\n",
      "Lista Ordenada de manera Descendente\n",
      "['ventana', 'silla', 'puerta', 'mesa', 'lavadora', 'espejo', 'cuchara', 'cuadros', 'cocina', 'armario']\n"
     ]
    }
   ],
   "source": [
    "print (\"LISTA DE OBJETOS DEL HOGAR : \") \n",
    " \n",
    "o1 = input( \"Ingrese el primer objeto: \" ) \n",
    "o2 = input( \"Ingrese el segundo objeto: \" )\n",
    "o3 = input( \"Ingrese el tercer objeto: \" ) \n",
    "o4 = input( \"Ingrese el cuarto objeto: \" ) \n",
    "o5 = input( \"Ingrese el quinto objeto: \" ) \n",
    "o6 = input( \"Ingrese el sexto objeto: \" ) \n",
    "o7 = input( \"Ingrese el séptimo objeto: \" ) \n",
    "o8 = input( \"Ingrese el octavo objeto: \" ) \n",
    "o9 = input( \"Ingrese el noveno objeto: \" ) \n",
    "o10 = input( \"Ingrese el décimo objeto: \" )\n",
    "\n",
    "OBJETOS = [ o1, o2, o3, o4, o5, o6, o7, o8, o9, o10 ] \n",
    "\n",
    "print( \"Seleccione una opción :\" ) \n",
    "print( \"a): Lista Ordenada de manera Ascendente\" )\n",
    "print( \"b): Lista Ordenada de manera Descendente\" )\n",
    "opcion = input( \"Escoja su opción; digitando a) o b) y presione enter:\" )\n",
    "if opcion ==  \"a\" : \n",
    "    print('\\nLista Ordenada de manera Ascendente')\n",
    "    OBJETOS.sort()                 \n",
    "    print(OBJETOS)\n",
    "\n",
    "else:\n",
    "    if opcion ==  \"b\" : \n",
    "        print('\\nLista Ordenada de manera Descendente')\n",
    "        OBJETOS.sort()\n",
    "        OBJETOS.reverse()              \n",
    "        print(OBJETOS)"
   ]
  },
  {
   "cell_type": "markdown",
   "id": "c4578ebd",
   "metadata": {},
   "source": [
    "**EJERCICIO 4:** Hacer un programa que ingrese por teclado una contraseña con un nombre, si el nombre y contraseña ingresada se encuentra en la lista de contraseñas y en la lista de nombres, Les da la bienvenida el sistema y te\n",
    "reconoce como Trabajador de la empresa MicroSecret . Si la contraseña o nombre es incorrecta te rechaza el acceso. Utilizar listas y funciones "
   ]
  },
  {
   "cell_type": "code",
   "execution_count": 3,
   "id": "803231c2",
   "metadata": {},
   "outputs": [
    {
     "name": "stdout",
     "output_type": "stream",
     "text": [
      "Buenos días,para ingresar a la empresa realice los siguientes pasos: \n",
      "Escriba su usuario(nombre): Aron\n",
      "Escriba su contraseña(apellido): Alvarez\n",
      "Acceso Denegado\n",
      "No es trabajador de la empresa MicroSecret.\n"
     ]
    }
   ],
   "source": [
    "print(\"Buenos días,para ingresar a la empresa realice los siguientes pasos: \")\n",
    "def usuario(name):\n",
    "    if name in nombre:\n",
    "           \n",
    "        def contraseña(pase):\n",
    "            if pase in contra:\n",
    "                print(f\"\\nBienvenido(a) {nombre1.upper()}, trabajador(a) de la empresa MicroSecret. \")\n",
    "            else:\n",
    "                print(\"Acceso Denegado\" \"\\nNo es trabajador de la empresa MicroSecret.\")\n",
    "                \n",
    "        contra = [\"Barrera\", \"Canazas\", \"Choque\", \"Cruz\", \"Gomez\", \"Palma\", \"Rosas\"]\n",
    "        contra1 = input(\"Escriba su contraseña(apellido): \")\n",
    "        \n",
    "        contraseña(contra1)\n",
    "        \n",
    "    else:\n",
    "        print(\"El nombre que usted a ingresado es incorrecto.\" \"\\nNo es trabajador de la empresa MicroSecret.\")\n",
    "               \n",
    "nombre = [\"Alvaro\", \"Aron\", \"Axel\", \"Derek\", \"Jhair\", \"Raquel\", \"Yadira\"]\n",
    "nombre1 = input(\"Escriba su usuario(nombre): \")\n",
    "\n",
    "usuario(nombre1)"
   ]
  },
  {
   "cell_type": "markdown",
   "id": "d6a94707",
   "metadata": {},
   "source": [
    "**EJERCICIO 5:** Hacer un programa que verifique una lista de almacen de una Carpintería:\n",
    "+ Si tiene clavos y madera se puede construir una ventana.\n",
    "+ Si tiene plancha metal y soldadura se puede construir puerta metalica.\n",
    "+ Si tiene plancha de madera y madera se puede construir una puerta.\n",
    "+ Si no tiene ninguna de las anteriores, solicitar compra de materiales. (Utilizar listas y funciones)"
   ]
  },
  {
   "cell_type": "code",
   "execution_count": 1,
   "id": "eee2fb4b",
   "metadata": {},
   "outputs": [
    {
     "name": "stdout",
     "output_type": "stream",
     "text": [
      "MATERIALES DE LA CARPINTERÍA\n",
      "\n",
      "\n",
      "MAteriales: ['clavos', 'madera', 'plancha de metal', 'soldadura', 'plancha de madera']\n",
      "\n",
      "\n",
      "Liste materiales de la Carpintería a utilizar:\n",
      "\n",
      "MAterial 1:  clavos\n",
      "\n",
      "Material 2: madera\n",
      "\n",
      "Seleccione una opción: \n",
      "\n",
      "\n",
      "a) Fabricar una ventana \n",
      "b) Fabricar una puerta metálica\n",
      "c) Construir una puerta \n",
      "\n",
      "\n",
      "Digita a, b, O c y presiona enter:a\n",
      "\n",
      "\n",
      "Es posible construir una ventana\n"
     ]
    }
   ],
   "source": [
    "print(\"MATERIALES DE LA CARPINTERÍA\")\n",
    "print(\"\\n\")\n",
    "almacen = ['clavos', 'madera', 'plancha de metal', 'soldadura', 'plancha de madera']\n",
    "print(\"MAteriales: \" + str(almacen))\n",
    "print(\"\\n\")\n",
    "print(\"Liste materiales de la Carpintería a utilizar:\")\n",
    "material1 = input(\"\\nMAterial 1:  \")\n",
    "material2 = input(\"\\nMaterial 2: \")\n",
    "\n",
    "#Menú\n",
    "print(\"\\nSeleccione una opción: \")\n",
    "print(\"\\n\")\n",
    "print(\"a) Fabricar una ventana \")\n",
    "print(\"b) Fabricar una puerta metálica\")\n",
    "print(\"c) Construir una puerta \")\n",
    "\n",
    "ventana = ['clavos', 'madera']\n",
    "puertametal = ['plancha de metal', 'soldadura']\n",
    "puerta = ['madera', 'plancha de madera']\n",
    "\n",
    "print(\"\\n\")\n",
    "opcion = input(\"Digita a, b, O c y presiona enter:\")\n",
    "print(\"\\n\")\n",
    "if material1 not in almacen:\n",
    "    if material2 not in almacen:\n",
    "        print(\"\\nEl material especificado no se encuentra en el almacén, se solicita comprar mas materiales\")\n",
    "    \n",
    "if opcion == \"a\":\n",
    "    if material1 in ventana:\n",
    "        if material2 in ventana:\n",
    "            print(\"Es posible construir una ventana\")\n",
    "        else:\n",
    "            print(\"No es posible construir una ventana\")\n",
    "else:\n",
    "    if opcion == \"b\":\n",
    "        if material1 in puertametal:\n",
    "            if material2 in puertametal:\n",
    "                print(\"Es posible construir una puerta metálica\")\n",
    "            else:\n",
    "                print(\"No es posible construir una puerta metálica\")\n",
    "        else:\n",
    "            if opcion == \"c\":\n",
    "                if material1 in puerta:\n",
    "                    if material2 in puerta:\n",
    "                        print('Es posible construir una puerta')\n",
    "                    else:\n",
    "                        print(\"No es posible construir una puerta\")\n",
    "            else:\n",
    "                print(\"\\nSolo hay tres opciones: a, b, c.\")\n",
    "                print('Tu has tecleado \"{}\".'.format(opcion))\n",
    "                        \n",
    " "
   ]
  },
  {
   "cell_type": "markdown",
   "id": "4c1de3c5",
   "metadata": {},
   "source": [
    "**EJERCICIO 6:** Hacer un Programa de selección para jovenes postulantes a la Marina de Guerra del Perú, verificando el ingreso de los siguientes datos:\n",
    "+ Deben ser Mujeres mayores de edad, con altura mínima de 1,60 metros, con peso entre 55 y 60 kilos y tenga en la prueba mayor a 65 puntos.\n",
    "+ Deben ser Varones mayores de edad, con altura mínima de 1,65 metros, con peso entre 55 y 60 kilos y tenga en la prueba mayor a 65 puntos.\n",
    "+ Si no cumplen debe salir un mensaje de \"NO SELECCIONADO\"."
   ]
  },
  {
   "cell_type": "code",
   "execution_count": 1,
   "id": "a06ffc2e",
   "metadata": {},
   "outputs": [
    {
     "name": "stdout",
     "output_type": "stream",
     "text": [
      "BIENVENIDO AL PROGRAMA DE SELECCIÓN PARA JOVENES POSTULANTES A LA MARINA DE GUERRA DEL PERÚ\n",
      "\n",
      "Para realizar la verificacion de su resultado, por favor ingrese los siguientes datos:\n",
      "\n",
      "Ingresa tus nombres completos: Axel Scott Palma Layme\n",
      "Ingresa tu sexo (femenino o masculino): masculino\n",
      "Ingresa tu edad: 22\n",
      "Ingresa tu altura (en m): 1.8\n",
      "Ingresa tu peso (en kg): 58.5\n",
      "Ingresa tu puntaje obtenido: 89.3\n",
      "\n",
      "Usted ha sido SELECCIONADO\n"
     ]
    }
   ],
   "source": [
    "#DEFINIMOS LA FUNCION de \"Seleccion\" en funcion a las 5 variables que tenemos como condicion: Sexo, Edad, Altura, Peso y Puntaje obtenido\n",
    "\n",
    "def seleccion(a,b,c,d,e):\n",
    "    if a == \"masculino\" :\n",
    "        if b >= 18 :\n",
    "            if c >= 1.65 :\n",
    "                if d >= 55 and d <= 60 :\n",
    "                    if e > 65:\n",
    "                        print(f'\\nUsted ha sido SELECCIONADO')\n",
    "                    else:\n",
    "                        print(f'\\nUsted NO ha sido SELECCIONADO')\n",
    "                else:\n",
    "                    print(f'\\nUsted NO ha sido SELECCIONADO')\n",
    "            else:\n",
    "                print(f'\\nUsted NO ha sido SELECCIONADO')\n",
    "        else:\n",
    "            print(f'\\nUsted NO ha sido SELECCIONADO')\n",
    "    elif a == \"femenino\" :\n",
    "        if b >= 18 :\n",
    "            if c >= 1.6 :\n",
    "                if d >= 55 and d <= 60 :\n",
    "                    if e > 65:\n",
    "                        print(f'\\nUsted ha sido SELECCIONADO')\n",
    "                    else:\n",
    "                        print(f'\\nUsted NO ha sido SELECCIONADO')\n",
    "                else:\n",
    "                    print(f'\\nUsted NO ha sido SELECCIONADO')\n",
    "            else:\n",
    "                print(f'\\nUsted NO ha sido SELECCIONADO')\n",
    "        else:\n",
    "            print(f'\\nUsted NO ha sido SELECCIONADO')\n",
    "\n",
    "print(\"bienvenido al Programa de selección para jovenes postulantes a la Marina de Guerra del Perú\".upper())\n",
    "print(\"\\nPara realizar la verificacion de su resultado, por favor ingrese los siguientes datos:\")\n",
    "\n",
    "#INGRESO DE DATOS\n",
    "nombre = input('\\nIngresa tus nombres completos: ')\n",
    "sexo = input('Ingresa tu sexo (femenino o masculino): ')\n",
    "edad = int(input('Ingresa tu edad: '))\n",
    "altura = float(input('Ingresa tu altura (en m): '))\n",
    "peso = float(input('Ingresa tu peso (en kg): '))\n",
    "puntaje = float(input('Ingresa tu puntaje obtenido: '))\n",
    "\n",
    "seleccion(sexo,edad,altura,peso,puntaje)\n"
   ]
  },
  {
   "cell_type": "markdown",
   "id": "e137977f",
   "metadata": {},
   "source": [
    "**EJERCICIO 7:** Hacer un Programa de verificación de datos para obtención Tarjeta Única de Circulación (TUC) electrónica:\n",
    "+ Deben ser Mujeres/Hombres mayores de edad, aprobar examen médico, prueba de conocimiento mayor a 80 puntos, prueba de manejo mayor a 95 puntos, verificar pago de 10 soles, debe imprimir un mensaje de \"APTO TUC\".\n",
    "+ Si no cumplen cualquiera de las opciones debe imprimir un mensaje de \"NO APTO TUC\"."
   ]
  },
  {
   "cell_type": "code",
   "execution_count": 1,
   "id": "b19f4988",
   "metadata": {},
   "outputs": [
    {
     "name": "stdout",
     "output_type": "stream",
     "text": [
      "              VERIFICACION DE DATOS PARA OBTENCION DE TUC\n",
      "\n",
      "\n",
      "  ----------------------------------------------------------\n",
      "¿Aprobo examen medico? Responder si - no : si\n",
      "INGRESE SU EDAD : 25\n",
      "INGRESE SU PUNTAJE DE LA PRUEBA DE CONOCIMIENTOS : 98\n",
      "INGRESE SU PUNTAJE DE LA PRUEBA DE MANEJO : 97\n",
      "¿Realizo el pago? Responder si - no  : si\n",
      "Cumple con todos los requisitos\n",
      "\n",
      " APTO PARA TUC\n"
     ]
    }
   ],
   "source": [
    "print(\"              VERIFICACION DE DATOS PARA OBTENCION DE TUC\")\n",
    "print(\"\\n\\n  ----------------------------------------------------------\")\n",
    "exm = input(\"¿Aprobo examen medico? Responder si - no : \")\n",
    "edad =int(input(\"INGRESE SU EDAD : \"))\n",
    "pnts = int(input(\"INGRESE SU PUNTAJE DE LA PRUEBA DE CONOCIMIENTOS : \"))\n",
    "pntsm = int(input(\"INGRESE SU PUNTAJE DE LA PRUEBA DE MANEJO : \"))\n",
    "pago = input(\"¿Realizo el pago? Responder si - no  : \")\n",
    "\n",
    "\n",
    "\n",
    "if edad >= 18:\n",
    "    if pnts > 80:\n",
    "        if pntsm >95:\n",
    "            if pago == 'si':\n",
    "                \n",
    "                if exm == 'si':\n",
    "                    print(\"Cumple con todos los requisitos\")\n",
    "                    print(\"\\n APTO PARA TUC\")\n",
    "                else:\n",
    "                    print(\"No aprobo examen medico\")\n",
    "                    print(\"\\n NO APTO TUC\")\n",
    "                    \n",
    "            else:\n",
    "                print(\"Falta realizar el pago\")\n",
    "                print(\"\\n NO APTO TUC\")\n",
    "        else:\n",
    "            print(\"No aprobo la prueba de manejo\")\n",
    "            print(\"\\n NO APTO TUC\")\n",
    "    else:\n",
    "        print(\"No aprobo la prueba de conocimiento\")\n",
    "        print(\"\\n NO APTO TUC\")\n",
    "else:\n",
    "    print(\"Usted es menor de edad\")\n",
    "    print(\"\\n NO APTO TUC\")"
   ]
  },
  {
   "cell_type": "code",
   "execution_count": null,
   "id": "df02cc05",
   "metadata": {},
   "outputs": [],
   "source": []
  }
 ],
 "metadata": {
  "kernelspec": {
   "display_name": "Python 3 (ipykernel)",
   "language": "python",
   "name": "python3"
  },
  "language_info": {
   "codemirror_mode": {
    "name": "ipython",
    "version": 3
   },
   "file_extension": ".py",
   "mimetype": "text/x-python",
   "name": "python",
   "nbconvert_exporter": "python",
   "pygments_lexer": "ipython3",
   "version": "3.8.11"
  }
 },
 "nbformat": 4,
 "nbformat_minor": 5
}
