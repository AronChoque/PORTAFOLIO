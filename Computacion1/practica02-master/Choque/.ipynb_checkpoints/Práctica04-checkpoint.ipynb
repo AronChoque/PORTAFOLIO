{
 "cells": [
  {
   "cell_type": "markdown",
   "metadata": {},
   "source": [
    "# Práctica 04"
   ]
  },
  {
   "cell_type": "markdown",
   "metadata": {},
   "source": [
    "# PYTHON-Estructura Iterativa-\"for\""
   ]
  },
  {
   "cell_type": "markdown",
   "metadata": {},
   "source": [
    "# DESARROLLO"
   ]
  },
  {
   "cell_type": "markdown",
   "metadata": {},
   "source": [
    "## 1. Estructura Iterativa - Bucle \"for\""
   ]
  },
  {
   "cell_type": "code",
   "execution_count": null,
   "metadata": {},
   "outputs": [],
   "source": [
    "for <var> in <iterable>:\n",
    "    <código>\n",
    "    <código>\n",
    "    ...................."
   ]
  },
  {
   "cell_type": "markdown",
   "metadata": {},
   "source": [
    "var es la variable que toma el valor del elemento dentro del iterador en cada paso del bucle. Este finaliza\n",
    "su ejecución cuando se recorren todos los elementos.\n",
    "Un iterable es un objeto que permite recorrer sus elementos uno a uno. En Python, los tipos principales\n",
    "list , tuple , dict , set o string entre otros, son iterables, por lo que podrán ser usados en el bucle\n",
    "for."
   ]
  },
  {
   "cell_type": "markdown",
   "metadata": {},
   "source": [
    "## Usamos for"
   ]
  },
  {
   "cell_type": "code",
   "execution_count": 2,
   "metadata": {},
   "outputs": [
    {
     "name": "stdout",
     "output_type": "stream",
     "text": [
      "10\n",
      "20\n",
      "30\n",
      "60\n"
     ]
    }
   ],
   "source": [
    "#\"for\" iterando una lista\n",
    "num = [10,20,30,60]\n",
    "for n in num:\n",
    "    print(n)"
   ]
  },
  {
   "cell_type": "code",
   "execution_count": 3,
   "metadata": {},
   "outputs": [
    {
     "name": "stdout",
     "output_type": "stream",
     "text": [
      "T\n",
      "h\n",
      "a\n",
      "n\n",
      "o\n",
      "s\n"
     ]
    }
   ],
   "source": [
    "#\"for\" iterando un string\n",
    "nom = \"Thanos\"\n",
    "for t in nom:\n",
    "    print(t)"
   ]
  },
  {
   "cell_type": "code",
   "execution_count": 4,
   "metadata": {},
   "outputs": [
    {
     "name": "stdout",
     "output_type": "stream",
     "text": [
      "Hola Carlitos, la longitud de tu nombre es de: 8 caracteres.\n",
      "Hola Pepito, la longitud de tu nombre es de: 6 caracteres.\n",
      "Hola Chavito, la longitud de tu nombre es de: 7 caracteres.\n",
      "Hola Chiviktor, la longitud de tu nombre es de: 9 caracteres.\n"
     ]
    }
   ],
   "source": [
    "#\"for\" hallando la longitud de los elementos de una lista\n",
    "for nombres in [\"Carlitos\", \"Pepito\", \"Chavito\", \"Chiviktor\"]:\n",
    "    print(\"Hola {0}, la longitud de tu nombre es de: {1} caracteres.\" .format(nombres,len(nombres))) "
   ]
  },
  {
   "cell_type": "markdown",
   "metadata": {},
   "source": [
    "#### Hacer un programa que itere a lo largo de una lista que contenga colores y añada(appends) todos los colores que contengan la letra \"r\" a una nueva lista."
   ]
  },
  {
   "cell_type": "code",
   "execution_count": 5,
   "metadata": {},
   "outputs": [
    {
     "name": "stdout",
     "output_type": "stream",
     "text": [
      "['morado', 'plomo', 'marrón']\n"
     ]
    }
   ],
   "source": [
    "#lista de colores\n",
    "colores = [\"morado\", \"plomo\", \"azul\", \"marrón\", \"negro\", \"rosado\", \"verde\", \"naranja\"]\n",
    "#nueva lista\n",
    "colores_con_m = []\n",
    "for t in colores:\n",
    "    if \"m\" in t:\n",
    "        colores_con_m.append(t)\n",
    "print(colores_con_m)\n"
   ]
  },
  {
   "cell_type": "markdown",
   "metadata": {},
   "source": [
    "### Función range()"
   ]
  },
  {
   "cell_type": "code",
   "execution_count": 6,
   "metadata": {
    "scrolled": true
   },
   "outputs": [
    {
     "name": "stdout",
     "output_type": "stream",
     "text": [
      "0\n",
      "1\n",
      "2\n",
      "3\n",
      "4\n",
      "5\n",
      "6\n",
      "7\n",
      "8\n"
     ]
    }
   ],
   "source": [
    "#\"for\" utilizando la funcion \"range\" con un parametro\n",
    "for v in range(9):\n",
    "    print(v)"
   ]
  },
  {
   "cell_type": "markdown",
   "metadata": {},
   "source": [
    "#### Hacer un programa que imprima los números del 1 al 13"
   ]
  },
  {
   "cell_type": "code",
   "execution_count": 7,
   "metadata": {},
   "outputs": [
    {
     "name": "stdout",
     "output_type": "stream",
     "text": [
      "1 2 3 4 5 6 7 8 9 10 11 12 13 "
     ]
    }
   ],
   "source": [
    "#podemos usa un argumento\n",
    "#añadiremos el parámetro end=\"\" para quepor defecto no genere una nueva lista\n",
    "for i in range(13):\n",
    "    print(i+1, \"\", end=\"\")"
   ]
  },
  {
   "cell_type": "code",
   "execution_count": 8,
   "metadata": {},
   "outputs": [
    {
     "name": "stdout",
     "output_type": "stream",
     "text": [
      "1 2 3 4 5 6 7 8 9 10 11 12 "
     ]
    }
   ],
   "source": [
    "#Podemos usar 2 valores para definir el inicio o final\n",
    "for m in range(1,13):\n",
    "    print(m, \"\", end=\"\")"
   ]
  },
  {
   "cell_type": "markdown",
   "metadata": {},
   "source": [
    "#### Ejemplos de función range"
   ]
  },
  {
   "cell_type": "code",
   "execution_count": 9,
   "metadata": {},
   "outputs": [
    {
     "name": "stdout",
     "output_type": "stream",
     "text": [
      "2 6 10 14 18 "
     ]
    }
   ],
   "source": [
    "#Podemos usar 3 para definir un inicio, un final y una longitud de paso(en este caso 4)\n",
    "for v in range(2,20,4):\n",
    "    print(v, \"\", end=\"\")"
   ]
  },
  {
   "cell_type": "code",
   "execution_count": 10,
   "metadata": {},
   "outputs": [
    {
     "name": "stdout",
     "output_type": "stream",
     "text": [
      "10 9 8 7 6 5 4 3 2 1 "
     ]
    }
   ],
   "source": [
    "#inicio=10 , final=0, longitud de paso -1\n",
    "for l in range(10,0,-1):\n",
    "    print(l, \"\", end=\"\")"
   ]
  },
  {
   "cell_type": "code",
   "execution_count": 11,
   "metadata": {},
   "outputs": [
    {
     "name": "stdout",
     "output_type": "stream",
     "text": [
      "60 50 40 30 20 10 0 "
     ]
    }
   ],
   "source": [
    "#inicio=60 , final=-10, longitud de paso -10\n",
    "for k in range(60,-10,-10):\n",
    "    print(k, \"\", end=\"\")"
   ]
  },
  {
   "cell_type": "code",
   "execution_count": 13,
   "metadata": {},
   "outputs": [
    {
     "name": "stdout",
     "output_type": "stream",
     "text": [
      "10 8 6 4 2 0 -2 -4 "
     ]
    }
   ],
   "source": [
    "#inicio=10 , final=-5, longitud de paso -2\n",
    "for f in range(10,-5,-2):\n",
    "    print(f, \"\", end=\"\")"
   ]
  },
  {
   "cell_type": "markdown",
   "metadata": {},
   "source": [
    "### Modificando la iteración del bucle for: break y continue"
   ]
  },
  {
   "cell_type": "markdown",
   "metadata": {},
   "source": [
    "#### Uso de break:"
   ]
  },
  {
   "cell_type": "markdown",
   "metadata": {},
   "source": [
    "#### Hacer un programa que de una lista de números imprima la posición del número 9:"
   ]
  },
  {
   "cell_type": "code",
   "execution_count": 14,
   "metadata": {},
   "outputs": [
    {
     "name": "stdout",
     "output_type": "stream",
     "text": [
      "2\n"
     ]
    }
   ],
   "source": [
    "#lista de número\n",
    "lista = [8,6,9,12,2,7,1]\n",
    "#utilizamos un contador, iniciamos en 0 o -1????\n",
    "contar = -1\n",
    "for b in lista:\n",
    "    contar = contar+1\n",
    "    if b ==9:\n",
    "        break\n",
    "print(contar)"
   ]
  },
  {
   "cell_type": "markdown",
   "metadata": {},
   "source": [
    "#### Asignación abreviada(contador abreviado)"
   ]
  },
  {
   "cell_type": "code",
   "execution_count": 15,
   "metadata": {},
   "outputs": [
    {
     "name": "stdout",
     "output_type": "stream",
     "text": [
      "21\n"
     ]
    }
   ],
   "source": [
    "contador = 3\n",
    "contador *=7                           #Hay abreviaturas similares para -=, +=, *=, /=, //=\n",
    "print(contador)"
   ]
  },
  {
   "cell_type": "code",
   "execution_count": 16,
   "metadata": {},
   "outputs": [
    {
     "name": "stdout",
     "output_type": "stream",
     "text": [
      "No hay el número 9\n"
     ]
    }
   ],
   "source": [
    "#lista de números sin el número 9\n",
    "lista = [3,8,6,12,15]\n",
    "#utilizamos un contador reducido\n",
    "contar = -3\n",
    "for f in lista:\n",
    "    contar += 3\n",
    "    if m == 9:\n",
    "        break\n",
    "else:\n",
    "## Usamos \"for\" conjuntamente con \"else\"    \n",
    "    contar =-3\n",
    "    print(\"No hay el número 9\")\n",
    "if contar>= 0:\n",
    "    print(contar)"
   ]
  },
  {
   "cell_type": "markdown",
   "metadata": {},
   "source": [
    "#### Uso de continue:"
   ]
  },
  {
   "cell_type": "markdown",
   "metadata": {},
   "source": [
    "#### Hacer un programa que de una lista de números imprima solo los números pares:"
   ]
  },
  {
   "cell_type": "code",
   "execution_count": 17,
   "metadata": {},
   "outputs": [
    {
     "name": "stdout",
     "output_type": "stream",
     "text": [
      "48\n",
      "666\n"
     ]
    }
   ],
   "source": [
    "#Lista de números\n",
    "lista = [ 3, 7, 29, 48, 101, 666]\n",
    "for h in lista:\n",
    "    if h %2 !=0:\n",
    "        continue\n",
    "    print(h)"
   ]
  },
  {
   "cell_type": "markdown",
   "metadata": {},
   "source": [
    "#### Hacer un programa que imprima los múltiplos de 3:"
   ]
  },
  {
   "cell_type": "code",
   "execution_count": 18,
   "metadata": {},
   "outputs": [
    {
     "name": "stdout",
     "output_type": "stream",
     "text": [
      "21\n",
      "453\n",
      "303\n"
     ]
    }
   ],
   "source": [
    "#Lista de números\n",
    "lista = [ 21, 88, 67, 453, 303]\n",
    "for o in lista:\n",
    "    if o %3 !=0:\n",
    "        continue\n",
    "    print(o)"
   ]
  },
  {
   "cell_type": "markdown",
   "metadata": {},
   "source": [
    "# Iniciando EJEMPLOS:"
   ]
  },
  {
   "cell_type": "markdown",
   "metadata": {},
   "source": [
    "### Estructura iterativa \"for\": "
   ]
  },
  {
   "cell_type": "markdown",
   "metadata": {},
   "source": [
    "#### Hacer un programa mostrar por pantalla los números pares del 0 al 18:"
   ]
  },
  {
   "cell_type": "code",
   "execution_count": 37,
   "metadata": {},
   "outputs": [
    {
     "name": "stdout",
     "output_type": "stream",
     "text": [
      "0\n",
      "2\n",
      "4\n",
      "6\n",
      "8\n",
      "10\n",
      "12\n",
      "14\n",
      "16\n"
     ]
    }
   ],
   "source": [
    "for num in range(0,17,2):\n",
    "    print(num)"
   ]
  },
  {
   "cell_type": "markdown",
   "metadata": {},
   "source": [
    "#### Hacer un programa que permita ingresar nombres a una lista, utilizando funciones:"
   ]
  },
  {
   "cell_type": "code",
   "execution_count": 19,
   "metadata": {},
   "outputs": [
    {
     "name": "stdout",
     "output_type": "stream",
     "text": [
      "De cuantos elementos crearemos la lista de nombres : 2\n",
      "Ingresar Nombre de la posición 0 : Aron\n",
      "Ingresar Nombre de la posición 1 : Hitler\n",
      "\n",
      "la lista completa de nombres es: \n",
      " ['Aron', 'Hitler']\n"
     ]
    }
   ],
   "source": [
    "#Inicializamos la lista vacia\n",
    "names = []\n",
    "#función entrada \n",
    "def entrada(ele):\n",
    "    for f in range(0,ele):\n",
    "        z= input(\"Ingresar Nombre de la posición {0} : \".format(f))\n",
    "        names.append(z)\n",
    "#Inicializamos la lista vacia        \n",
    "l=int(input(\"De cuantos elementos crearemos la lista de nombres : \"))\n",
    "\n",
    "entrada(l)\n",
    "print(\"\\nla lista completa de nombres es: \\n\",names) "
   ]
  },
  {
   "cell_type": "markdown",
   "metadata": {},
   "source": [
    "#### Método2: Hacer u programa que de una lista de números imprima la posición del número 8, utilizando función enumerate"
   ]
  },
  {
   "cell_type": "code",
   "execution_count": 20,
   "metadata": {},
   "outputs": [
    {
     "name": "stdout",
     "output_type": "stream",
     "text": [
      "No hay el número 8\n"
     ]
    }
   ],
   "source": [
    "#Lista de numeros\n",
    "lista=[3, 7, 18, 21, 6]\n",
    "#utilizo la funcion \"enumerate\" que devuelve una tupla(es igual a la lista pero es inmutable)\n",
    "#tupla de 2 elemntos de una lista (posicion, contenido)\n",
    "for f,z in enumerate(lista): \n",
    "    if z==9:\n",
    "        break\n",
    "else:\n",
    "## Usamos \"for\" conjuntamente con \"else\"\n",
    "   # ponemos negativa la posicion\n",
    "    f = -1\n",
    "    print(\"No hay el número 8\")\n",
    "if f >=0:\n",
    "    print(z)"
   ]
  },
  {
   "cell_type": "markdown",
   "metadata": {},
   "source": [
    "#### Hacer un programa que lea la lista de relatos de H.P. Lovecraft e indique el nombre de los relatos:"
   ]
  },
  {
   "cell_type": "code",
   "execution_count": 21,
   "metadata": {},
   "outputs": [
    {
     "name": "stdout",
     "output_type": "stream",
     "text": [
      "\n",
      "El primer libro de H.P.Lovecraft es: Dagón\n",
      "\n",
      "El segundo libro de H.P.Lovecraft es: La tumba\n",
      "\n",
      "El tercero libro de H.P.Lovecraft es: Aire frío\n",
      "\n",
      "El cuarto libro de H.P.Lovecraft es: El alquimista\n"
     ]
    }
   ],
   "source": [
    "#Lista de reatos de H.P. Lovecraft\n",
    "relatos_hpl=[\"Dagón\", \"La tumba\", \"Aire frío\",\"El alquimista\"]\n",
    "#Lista Orden de los libros\n",
    "orden=[\"primer\",\"segundo\",\"tercero\",\"cuarto\"]\n",
    "#Utilizamos \"enumerate\"\n",
    "for r, relato in enumerate(relatos_hpl):\n",
    "    print(\"\\nEl \" + orden[r] +\" libro de H.P.Lovecraft es: \" +relato)"
   ]
  },
  {
   "cell_type": "markdown",
   "metadata": {},
   "source": [
    "#### Hacer un programa que realice invitaciones de una lista de nombres"
   ]
  },
  {
   "cell_type": "code",
   "execution_count": 23,
   "metadata": {},
   "outputs": [
    {
     "name": "stdout",
     "output_type": "stream",
     "text": [
      "Hello Pepe. ¡ Plis, caigan a mi quino el lunes!!!\n",
      "Hello Tito. ¡ Plis, caigan a mi quino el lunes!!!\n",
      "Hello Chino. ¡ Plis, caigan a mi quino el lunes!!!\n",
      "Hello Kriko. ¡ Plis, caigan a mi quino el lunes!!!\n",
      "Hello Keiko. ¡ Plis, caigan a mi quino el lunes!!!\n"
     ]
    }
   ],
   "source": [
    "for z in [\"Pepe\", \"Tito\", \"Chino\", \"Kriko\", \"Keiko\"]:\n",
    "    invitacion = \"Hello \" + z + \". ¡ Plis, caigan a mi quino el lunes!!!\"\n",
    "    print(invitacion)"
   ]
  },
  {
   "cell_type": "markdown",
   "metadata": {},
   "source": [
    "#### Hacer un programa que sume los elementos de una lista, utilizar funciones y for"
   ]
  },
  {
   "cell_type": "code",
   "execution_count": 24,
   "metadata": {},
   "outputs": [
    {
     "name": "stdout",
     "output_type": "stream",
     "text": [
      "9\n",
      "1234\n",
      "44.4\n",
      "1090\n",
      "26\n"
     ]
    }
   ],
   "source": [
    "#solicita usar for y funciones, NO SE PUEDE USAR funcion \"sum\"\n",
    "def mimi(xd):\n",
    "    \"\"\"Suma todos los números de la lista xd, y devuelve el total.\"\"\"\n",
    "    running_total=0\n",
    "    for x in xd:\n",
    "        running_total = running_total + x\n",
    "    return running_total\n",
    "\n",
    "print(mimi([2,3,4]))\n",
    "print(mimi([12,4,564,654]))\n",
    "print(mimi([5.9,36.4,2.1]))\n",
    "print(mimi([303,666,121]))\n",
    "print(mimi(range(5,9)))"
   ]
  },
  {
   "cell_type": "markdown",
   "metadata": {},
   "source": [
    "#### Hacer un programa que sume los elementos de una lista, usando función sum\n"
   ]
  },
  {
   "cell_type": "code",
   "execution_count": 54,
   "metadata": {},
   "outputs": [
    {
     "data": {
      "text/plain": [
       "24"
      ]
     },
     "execution_count": 54,
     "metadata": {},
     "output_type": "execute_result"
    }
   ],
   "source": [
    "f = [1,9,6,8]\n",
    "sum(f)"
   ]
  },
  {
   "cell_type": "markdown",
   "metadata": {},
   "source": [
    "#### Hacer un programa que imprima los múltiplos hasta el número 10 de cualquier número"
   ]
  },
  {
   "cell_type": "code",
   "execution_count": 25,
   "metadata": {},
   "outputs": [
    {
     "name": "stdout",
     "output_type": "stream",
     "text": [
      "Ingrese un número: 9\n",
      "\n",
      "Los múltiplos de  9 son: \n",
      "9  18  27  36  45  54  63  72  81  90  99  108  117  126  135  144  153  162  171  \n"
     ]
    }
   ],
   "source": [
    "#Creando la función \"multi\"\n",
    "def multi(f):\n",
    "    for z in range(1,20):\n",
    "        print(f * z, end=\"  \")\n",
    "    print()\n",
    " ## Llamamos a la función con el número del múltiplo deseado   \n",
    "m = int(input(\"Ingrese un número: \"))\n",
    "print(\"\\nLos múltiplos de \", m, \"son: \")\n",
    "multi(m)"
   ]
  },
  {
   "cell_type": "markdown",
   "metadata": {},
   "source": [
    "#### Ejemplo de for anidado: Creación de tablas"
   ]
  },
  {
   "cell_type": "code",
   "execution_count": 58,
   "metadata": {},
   "outputs": [
    {
     "name": "stdout",
     "output_type": "stream",
     "text": [
      "0 0 0\n",
      "0 0 1\n",
      "0 1 0\n",
      "0 1 1\n",
      "1 0 0\n",
      "1 0 1\n",
      "1 1 0\n",
      "1 1 1\n",
      "2 0 0\n",
      "2 0 1\n",
      "2 1 0\n",
      "2 1 1\n",
      "3 0 0\n",
      "3 0 1\n",
      "3 1 0\n",
      "3 1 1\n",
      "4 0 0\n",
      "4 0 1\n",
      "4 1 0\n",
      "4 1 1\n",
      "5 0 0\n",
      "5 0 1\n",
      "5 1 0\n",
      "5 1 1\n"
     ]
    }
   ],
   "source": [
    "for f in range(0,6):\n",
    "    for z in range(0,2):\n",
    "        for m in range(0,2):\n",
    "            print(f,z,m)"
   ]
  },
  {
   "cell_type": "markdown",
   "metadata": {},
   "source": [
    "#### Hacer un programa que permita hallar la raíz enésima de un número que se ingresaea por teclado:"
   ]
  },
  {
   "cell_type": "code",
   "execution_count": 65,
   "metadata": {},
   "outputs": [
    {
     "name": "stdout",
     "output_type": "stream",
     "text": [
      "Ingrese un número: 8\n",
      "La raíz 2-ésima de 8.0 es 2.8284271247461903\n",
      "La raíz 3-ésima de 8.0 es 2.0\n",
      "La raíz 4-ésima de 8.0 es 1.681792830507429\n",
      "La raíz 5-ésima de 8.0 es 1.5157165665103982\n",
      "La raíz 6-ésima de 8.0 es 1.414213562373095\n",
      "La raíz 7-ésima de 8.0 es 1.3459001926323562\n",
      "La raíz 8-ésima de 8.0 es 1.2968395546510096\n",
      "La raíz 9-ésima de 8.0 es 1.2599210498948732\n",
      "La raíz 10-ésima de 8.0 es 1.2311444133449163\n",
      "La raíz 11-ésima de 8.0 es 1.2080894444044472\n",
      "La raíz 12-ésima de 8.0 es 1.189207115002721\n",
      "La raíz 13-ésima de 8.0 es 1.1734604600046263\n",
      "La raíz 14-ésima de 8.0 es 1.1601293861601627\n",
      "La raíz 15-ésima de 8.0 es 1.148698354997035\n",
      "La raíz 16-ésima de 8.0 es 1.1387886347566916\n",
      "La raíz 17-ésima de 8.0 es 1.1301157834293298\n",
      "La raíz 18-ésima de 8.0 es 1.122462048309373\n",
      "La raíz 19-ésima de 8.0 es 1.1156579177615435\n",
      "La raíz 20-ésima de 8.0 es 1.109569472067845\n",
      "La raíz 21-ésima de 8.0 es 1.1040895136738123\n",
      "La raíz 22-ésima de 8.0 es 1.0991312225591845\n",
      "La raíz 23-ésima de 8.0 es 1.0946235364347188\n",
      "La raíz 24-ésima de 8.0 es 1.0905077326652577\n",
      "La raíz 25-ésima de 8.0 es 1.086734862526058\n",
      "La raíz 26-ésima de 8.0 es 1.0832637998219208\n",
      "La raíz 27-ésima de 8.0 es 1.080059738892306\n",
      "La raíz 28-ésima de 8.0 es 1.0770930257689735\n",
      "La raíz 29-ésima de 8.0 es 1.0743382393762155\n",
      "La raíz 30-ésima de 8.0 es 1.0717734625362931\n",
      "La raíz 31-ésima de 8.0 es 1.0693796985710673\n",
      "La raíz 32-ésima de 8.0 es 1.0671404006768237\n",
      "La raíz 33-ésima de 8.0 es 1.0650410894399627\n",
      "La raíz 34-ésima de 8.0 es 1.063069039822593\n",
      "La raíz 35-ésima de 8.0 es 1.0612130233333728\n",
      "La raíz 36-ésima de 8.0 es 1.0594630943592953\n",
      "La raíz 37-ésima de 8.0 es 1.05781041208069\n",
      "La raíz 38-ésima de 8.0 es 1.056247091244063\n",
      "La raíz 39-ésima de 8.0 es 1.0547660764816467\n",
      "La raíz 40-ésima de 8.0 es 1.0533610359548358\n",
      "La raíz 41-ésima de 8.0 es 1.052026270942415\n",
      "La raíz 42-ésima de 8.0 es 1.0507566386532194\n",
      "La raíz 43-ésima de 8.0 es 1.0495474860605887\n",
      "La raíz 44-ésima de 8.0 es 1.0483945929654466\n",
      "La raíz 45-ésima de 8.0 es 1.0472941228206267\n",
      "La raíz 46-ésima de 8.0 es 1.0462425801097557\n",
      "La raíz 47-ésima de 8.0 es 1.0452367732837295\n",
      "La raíz 48-ésima de 8.0 es 1.0442737824274138\n",
      "La raíz 49-ésima de 8.0 es 1.043350930967019\n",
      "La raíz 50-ésima de 8.0 es 1.0424657608411214\n"
     ]
    }
   ],
   "source": [
    "number = float(input(\"Ingrese un número: \"))\n",
    "for n in range(2, 51):\n",
    "    print(\"La raíz {0}-ésima de {1} es {2}\".format(n, number, number**(1/n)))"
   ]
  },
  {
   "cell_type": "code",
   "execution_count": 29,
   "metadata": {},
   "outputs": [
    {
     "name": "stdout",
     "output_type": "stream",
     "text": [
      "Ingrese su nombre: Adolfo\n",
      "Nombre correcto :D\n",
      "Nombre correcto :D\n",
      "Nombre correcto :D\n",
      "Nombre correcto :D\n",
      "Nombre correcto :D\n",
      "Nombre correcto :D\n",
      "Ingrese su apellido: Hitler\n",
      "Nombre correcto :D\n",
      "Nombre correcto :D\n",
      "Nombre correcto :D\n",
      "Nombre correcto :D\n",
      "Nombre correcto :D\n",
      "Nombre correcto :D\n"
     ]
    }
   ],
   "source": [
    "#Creo la lista de validación\n",
    "num=[\"1\", \"2\", \"3\", \"4\", \"5\", \"6\"]\n",
    "sim=[\"¿\",\"#\",\"&\",\"$\",\"¬\"]\n",
    "#La función\n",
    "def validar(nomap):\n",
    "    for x in nomap:\n",
    "        if x in num:\n",
    "            print(\"Nombre no válido!!!!\")\n",
    "        elif x in sim:\n",
    "            print(\"Nombre no palido!!!!!!!!\")\n",
    "        else:\n",
    "            print(\"Nombre correcto :D\")\n",
    "#Ingresar nombre          \n",
    "nom = input(\"Ingrese su nombre: \")\n",
    "#Llamar a la función\n",
    "validar(nom)\n",
    "#Ingresar nombre\n",
    "apell = input(\"Ingrese su apellido: \")\n",
    "#Llamar a la función\n",
    "validar(apell)"
   ]
  },
  {
   "cell_type": "markdown",
   "metadata": {},
   "source": [
    "# EJEMPLOS FINALIZADOS :v"
   ]
  }
 ],
 "metadata": {
  "kernelspec": {
   "display_name": "Python 3",
   "language": "python",
   "name": "python3"
  },
  "language_info": {
   "codemirror_mode": {
    "name": "ipython",
    "version": 3
   },
   "file_extension": ".py",
   "mimetype": "text/x-python",
   "name": "python",
   "nbconvert_exporter": "python",
   "pygments_lexer": "ipython3",
   "version": "3.8.12"
  }
 },
 "nbformat": 4,
 "nbformat_minor": 5
}
