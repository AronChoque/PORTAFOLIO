{
 "cells": [
  {
   "attachments": {
    "WhatsApp%20Image%202021-10-14%20at%2018.39.32.jpeg": {
     "image/jpeg": "[encoded data removed]"
    }
   },
   "cell_type": "markdown",
   "metadata": {},
   "source": [
    "![WhatsApp%20Image%202021-10-14%20at%2018.39.32.jpeg](attachment:WhatsApp%20Image%202021-10-14%20at%2018.39.32.jpeg)"
   ]
  },
  {
   "cell_type": "markdown",
   "metadata": {},
   "source": [
    "# EJERCICIOS"
   ]
  },
  {
   "cell_type": "markdown",
   "metadata": {},
   "source": [
    "**EJERCICIO 1:** Hacer un programa que ingrese por teclado un número inicial y un número final para generar un rango (una la lista consecutiva de números que inicia y termina de acuerdo a los números ingresados):\n",
    "+ Imprimir de cada número si es par o impar (recorrer la lista)\n",
    "+ Utilizando el operador % \n",
    "+ Utilizar for y funciones de verificación"
   ]
  },
  {
   "cell_type": "code",
   "execution_count": 1,
   "metadata": {},
   "outputs": [
    {
     "name": "stdout",
     "output_type": "stream",
     "text": [
      "Ingrese un número entero inicial:1\n",
      "Ingrese un número entero final:8\n",
      "\n",
      "\n",
      "1 es un numero impar \n",
      "2 es un numero par\n",
      "3 es un numero impar \n",
      "4 es un numero par\n",
      "5 es un numero impar \n",
      "6 es un numero par\n",
      "7 es un numero impar \n",
      "8 es un numero par\n"
     ]
    }
   ],
   "source": [
    "n = int(input(\"Ingrese un número entero inicial:\"))\n",
    "m = int(input(\"Ingrese un número entero final:\"))\n",
    "print(\"\\n\")\n",
    "\n",
    "def verificar(i) :\n",
    "        if i == 0:\n",
    "            print(\" no es un par ni tampoco impar\")   \n",
    "for i in range(n, m+1):\n",
    "    if i % 2 != 0:       \n",
    "        print(i, \"es un numero impar \")\n",
    "    \n",
    "    else:\n",
    "        if i != 0:\n",
    "            print(i, \"es un numero par\")\n",
    "        \n",
    "    if i == 0:\n",
    "        print(verificar(i), i) "
   ]
  },
  {
   "cell_type": "markdown",
   "metadata": {},
   "source": [
    "**EJERCICIO 2:** Hacer un programa que imprima la tabla completa de multiplicar de un\n",
    "número que se ingresa por teclado:\n",
    "+ Primero se debe solicitar un número\n",
    "+ Que imprima por pantalla las tablas de multiplicar del 1 al 10 de dicho número ingreado por teclado\n",
    "+ Utilizar for y funciones"
   ]
  },
  {
   "cell_type": "code",
   "execution_count": 3,
   "metadata": {},
   "outputs": [
    {
     "name": "stdout",
     "output_type": "stream",
     "text": [
      "Digite un numero entero: 5\n",
      "0 x 5 = 0\n",
      "1 x 5 = 5\n",
      "2 x 5 = 10\n",
      "3 x 5 = 15\n",
      "4 x 5 = 20\n",
      "5 x 5 = 25\n",
      "6 x 5 = 30\n",
      "7 x 5 = 35\n",
      "8 x 5 = 40\n",
      "9 x 5 = 45\n",
      "10 x 5 = 50\n"
     ]
    }
   ],
   "source": [
    "#Primero solicitamos un numero para lo cual digitamos lo siguiente:\n",
    "numero = int(input('Digite un numero entero: '))\n",
    "\n",
    "#Luego realizamos la funcion \n",
    "def tabl():\n",
    "        if numero > 0:\n",
    "            for w in range(0, 11):\n",
    "                print(f'{w} x {numero} = {w * numero}')\n",
    "        else:\n",
    "            print(\"El numero ingresado no es correcto.Intentelo nuevamente.\")\n",
    "tabl()"
   ]
  },
  {
   "cell_type": "markdown",
   "metadata": {},
   "source": [
    "**EJERCICIO 3:** Hacer un programa que solicite el ingreso de un nombre y apellido:\n",
    "+ Que verifique que el nombre y/o apellido no contenga ningun numero\n",
    "+ Que verifique que el nombre y/o apellido no contenga ningun simbolo extraño\n",
    "+ Si detecta que el nombre y/o apellido que no es un válido, que solicite que vuelva a ingresar su nombre y/o apellido\n",
    "+ Utilizar for y funciones"
   ]
  },
  {
   "cell_type": "code",
   "execution_count": 2,
   "metadata": {},
   "outputs": [
    {
     "name": "stdout",
     "output_type": "stream",
     "text": [
      "Buenos días, escriba sus datos y evite usar símbolos y números  \n",
      "Ingrese su nombre Aron$%6\n",
      "Hay un número o símbolo no permitido \n",
      "Vuelva a intentarlo\n",
      "Ingrese su nombre Aron\n",
      "Continue\n",
      "Ingrese su Apellido: Choque45$$$\n",
      "Hay un número o símbolo no permitido \n",
      "Vuelva a intentar \n",
      "Ingrese su Apellido: Choque\n",
      "GRACIAS\n"
     ]
    }
   ],
   "source": [
    "#Lista de números y símbolos no permitidos\n",
    "b=[\"1\", \"2\", \"3\", \"4\", \"5\", \"6\", \"7\", \"8\", \"9\", \"0\",\"¿\",\"#\",\"&\",\"+\",\"-\",\"*\",\"$\",\"¬\",\"|\",\"°\",\"@\",\"!\",\"¡\",\"?\",\"%\",\"()\",\"{}\",\"[]\",\"/\",\"<\",\">\",\"_\",\"-\",\"^\",\";\",\":\"]\n",
    "\n",
    "print(\"Buenos días, escriba sus datos y evite usar símbolos y números  \")\n",
    "\n",
    "#Utilizamos una primera función para el nombre\n",
    "def nombre(name):\n",
    "    for f in name:\n",
    "        if f in b:\n",
    "            print(\"Hay un número o símbolo no permitido \\nVuelva a intentarlo\")\n",
    "            return plb()\n",
    "    else:\n",
    "        print(\"Continue\")\n",
    "             \n",
    "        \n",
    "def apell(lst):            #Utilizamos una funcion para el apellido\n",
    "    for a in lst:\n",
    "        if a in b:\n",
    "            print(\"Hay un número o símbolo no permitido \\nVuelva a intentar \")\n",
    "            return apl()   \n",
    "    else:\n",
    "        print(\"GRACIAS\")\n",
    "             \n",
    "        \n",
    "def plb():\n",
    "    nom=input(\"Ingrese su nombre \")\n",
    "    nombre(nom)\n",
    "plb()\n",
    "\n",
    "def apl():\n",
    "    waa=input(\"Ingrese su Apellido: \")\n",
    "    apell(waa)      \n",
    "apl()"
   ]
  },
  {
   "cell_type": "markdown",
   "metadata": {},
   "source": [
    "**EJERCICIO 4:** Hacer un programa que genere una lista aleatoria de hasta 60 numeros:\n",
    "+ Subdidivir en listas pequeñas: lista multiplos de 2, lista multiplos de 3 y lista multiplos de 5\n",
    "+ Utilizar for para recorrer la lista\n",
    "+ utilizar listas y funciones"
   ]
  },
  {
   "cell_type": "code",
   "execution_count": 1,
   "metadata": {},
   "outputs": [
    {
     "name": "stdout",
     "output_type": "stream",
     "text": [
      "TENEMOS:\n",
      "60 números aleatorios del 1 hasta el 100:\n",
      "\n",
      "\n",
      "[2, 15, 11, 51, 15, 99, 6, 15, 36, 50, 79, 62, 72, 3, 31, 92, 53, 15, 71, 32, 43, 16, 91, 7, 47, 60, 89, 26, 37, 37, 31, 45, 85, 22, 2, 95, 74, 94, 52, 11, 57, 26, 34, 23, 61, 55, 79, 7, 11, 82, 41, 35, 28, 29, 88, 57, 72, 78]\n",
      "\n",
      "-----------------------------------------\n",
      " \n",
      "MULTIPLOS DE 2 \n",
      " [2, 6, 36, 50, 62, 72, 92, 32, 16, 60, 26, 22, 2, 74, 94, 52, 26, 34, 82, 28, 88, 72, 78]\n",
      "MULTIPLOS DE 3 \n",
      " [15, 51, 15, 99, 6, 15, 36, 72, 3, 15, 60, 45, 57, 57, 72, 78]\n",
      "MULTIPLOS DE 5 \n",
      " [15, 15, 15, 50, 15, 60, 45, 85, 95, 55, 35]\n"
     ]
    }
   ],
   "source": [
    "# Importaremos la biblioteca \"random\"\n",
    "\n",
    "from random import randint\n",
    "numeros = [randint(1,100) for _ in range(1,59)]\n",
    "    \n",
    "print(\"TENEMOS:\\n60 números aleatorios del 1 hasta el 100:\")\n",
    "print('\\n')\n",
    "print(numeros)\n",
    "\n",
    "#Ahora haremos las función para sacar múltiplos de 2, 3 y 5 de los 60 números random.\n",
    "numeros_2 = []\n",
    "numeros_3 = []\n",
    "numeros_5 = []\n",
    "\n",
    "# El modulo \"%\" nos indica el residuo entre dos números, por está razón \n",
    "#dividimos el número entre 2 y si nos sale igual a 0, es porque es múltiplo\n",
    "\n",
    "def dos_numeros(x):\n",
    "    for x in numeros:\n",
    "        div = x%2\n",
    "        if div == 0:\n",
    "            numeros_2.append(x)\n",
    "            \n",
    "#ividimos el número entre 3 y  si nos sale igual a 0, es porque es múltiplo            \n",
    "def tres_numeros(x):\n",
    "    for x in numeros:\n",
    "        div = x%3\n",
    "        if div == 0:\n",
    "            numeros_3.append(x)\n",
    "            \n",
    "#ividimos el número entre 5 y   si nos sale igual a 0, es porque es múltiplo         \n",
    "def cinco_numeros(x):\n",
    "    for x in numeros:\n",
    "        div = x%5\n",
    "        if div == 0:\n",
    "            numeros_5.append(x)\n",
    "\n",
    "#Llamamos a las funciones\n",
    "\n",
    "dos_numeros(numeros)\n",
    "tres_numeros(numeros)\n",
    "cinco_numeros(numeros)\n",
    "\n",
    "print(\"\\n-----------------------------------------\\n \")\n",
    "print(\"MULTIPLOS DE 2 \\n\",numeros_2)\n",
    "print(\"MULTIPLOS DE 3 \\n\",numeros_3)\n",
    "print(\"MULTIPLOS DE 5 \\n\",numeros_5)"
   ]
  },
  {
   "cell_type": "markdown",
   "metadata": {},
   "source": [
    "**EJERCICIO 5:** Hacer un programa que ingrese por teclado un número inicial de 3 cifras y un número final de 4 cifras para generar un rango (una la lista consecutiva de números que inicia y termina de acuerdo a los números ingresados):\n",
    "+ Imprimir de cada número si Capicúa (recorrer la lista)\n",
    "+ Utilizar for y funciones de verificación"
   ]
  },
  {
   "cell_type": "code",
   "execution_count": 16,
   "metadata": {},
   "outputs": [
    {
     "name": "stdout",
     "output_type": "stream",
     "text": [
      "Hola. Por favor: \n",
      "Ingrese un numero (min) de 3 cifras: 999\n",
      "Ingrese un numero (max) de 4 cifras: 9999\n",
      "999 1001 1111 1221 1331 1441 1551 1661 1771 1881 1991 2002 2112 2222 2332 2442 2552 2662 2772 2882 2992 3003 3113 3223 3333 3443 3553 3663 3773 3883 3993 4004 4114 4224 4334 4444 4554 4664 4774 4884 4994 5005 5115 5225 5335 5445 5555 5665 5775 5885 5995 6006 6116 6226 6336 6446 6556 6666 6776 6886 6996 7007 7117 7227 7337 7447 7557 7667 7777 7887 7997 8008 8118 8228 8338 8448 8558 8668 8778 8888 8998 9009 9119 9229 9339 9449 9559 9669 9779 9889 9999 Muchas gracias, que tenga un buen dia!\n"
     ]
    }
   ],
   "source": [
    "print(\"Hola. Por favor: \")\n",
    "\n",
    "#Numero minimo de 3 cifras\n",
    "a = int(input(\"Ingrese un numero (min) de 3 cifras: \"))\n",
    "\n",
    "\n",
    "#Numero maximo de 4 cifras\n",
    "b = int(input(\"Ingrese un numero (max) de 4 cifras: \"))\n",
    "\n",
    "\n",
    "# para poder hallar los numeros capicuos del intervalo que se ha formado existen varias maneras. Una de ellas\n",
    "# es convertir los numeros del intervalo a formato tipo string para luego separarlos en sus digitos \n",
    "# correspondientes. Una vez hecho eso, invertiremos los elementos de la lista para luego compararlo con la lista\n",
    "# original (orden de los digitos original).\n",
    "\n",
    "# num = numeros comprendidos en el intervalo establecido.\n",
    "# ln = lista de numeros\n",
    "\n",
    "def cap():\n",
    "    for i in range(a,b+1):\n",
    "        num = str(i)\n",
    "        ln = list(num)\n",
    "        if ln == ln [::-1]:\n",
    "            capicua =''.join(ln)\n",
    "       \n",
    "            print(capicua,\"\", end=\"\")\n",
    "cap()       \n",
    "print('Muchas gracias, que tenga un buen dia!')\n",
    "\n",
    "# Nota: se ha usado \"[::-1]\" para facilitar y abreviar el codigo al momento de que querer invertir los elementos\n",
    "# de la lista de numeros. El codigo omite el inicio y el fin del iterable, y añadiendo un paso -1, se nos devuelve\n",
    "# los elementos del iterable comenzando por el ultimo y terminando con el primero, invertiendo el orden original."
   ]
  },
  {
   "cell_type": "markdown",
   "metadata": {},
   "source": [
    "**EJERCICIO 6:** Hacer un programa que solicite el ingreso del DNI de un ciudadano:\n",
    "+ Que verifique que el DNI no contenga letras del abecedario\n",
    "+ Que verifique que el DNI no contenga ningun simbolo extraño\n",
    "+ Que verifique que el DNI solo tenga 8 números\n",
    "+ Si detecta que el DNI no es válido, que solicite que vuelva a ingresar su DNI\n",
    "+ Utilizar for y funciones"
   ]
  },
  {
   "cell_type": "code",
   "execution_count": 1,
   "metadata": {},
   "outputs": [
    {
     "name": "stdout",
     "output_type": "stream",
     "text": [
      "Buen día\n",
      "Ingrese su número de DNI: 7704087\n",
      "  No válido, recuerde que tiene que digitar 8 NÚMEROS intente de nuevo\n",
      "Ingrese su número de DNI: 7704087q\n",
      "  Entrada digitada incorrecta, recuerde que solo son 8 números, intente de nuevo\n",
      "Ingrese su número de DNI: 7704087-\n",
      "  Entrada digitada incorrecta, recuerde que solo son 8 números, intente de nuevo\n",
      "Ingrese su número de DNI: 7704087/\n",
      "  Entrada digitada incorrecta, recuerde que solo son 8 números, intente de nuevo\n",
      "Ingrese su número de DNI: 770408\n",
      "  No válido, recuerde que tiene que digitar 8 NÚMEROS intente de nuevo\n",
      "Ingrese su número de DNI: 7704087777\n",
      "  No válido, recuerde que tiene que digitar 8 NÚMEROS intente de nuevo\n",
      "Ingrese su número de DNI: 770408A\n",
      "  Entrada digitada incorrecta, recuerde que solo son 8 números, intente de nuevo\n",
      "Ingrese su número de DNI: 77040879\n"
     ]
    }
   ],
   "source": [
    "b= [\"A\",\"B\",\"C\",\"D\",\"E\",\"F\",\"G\",\"H\",\"I\",\"J\",\"K\",\"L\",\"M\",\"N\",\"Ñ\",\"O\",\"P\",\"Q\",\"R\",\"S\",\"T\",\"U\",\"V\",\"W\",\"X\",\"Y\",\"Z\",'?','!','$','%','&','/','ª','º', '-',\"-\", \"_\",\"a\",\"b\",\"c\",\"d\",\"e\",\"f\",\"g\",\"h\",\"i\",\"j\",\"k\",\"l\",\"m\",\"n\",\"ñ\",\"o\",\"p\",\"q\",\"r\",\"s\",\"t\",\"u\",\"v\",\"w\",\"x\",\"y\",\"z\"]\n",
    "\n",
    "print(\"Buen día\")\n",
    "\n",
    "def validar_dni(numero):\n",
    "    for r in numero:\n",
    "        if r in b:\n",
    "            print(\"  Entrada digitada incorrecta, recuerde que solo son 8 números, intente de nuevo\")\n",
    "            return numdni()\n",
    "    if len(numero) == 8:\n",
    "        pass\n",
    "    else:\n",
    "        print(\"  No válido, recuerde que tiene que digitar 8 NÚMEROS intente de nuevo\")\n",
    "        return numdni()\n",
    "    \n",
    "def numdni():\n",
    "    numero = input(\"Ingrese su número de DNI: \")\n",
    "    validar_dni(numero)\n",
    "\n",
    "numdni()"
   ]
  },
  {
   "cell_type": "code",
   "execution_count": null,
   "metadata": {},
   "outputs": [],
   "source": []
  }
 ],
 "metadata": {
  "kernelspec": {
   "display_name": "Python 3",
   "language": "python",
   "name": "python3"
  },
  "language_info": {
   "codemirror_mode": {
    "name": "ipython",
    "version": 3
   },
   "file_extension": ".py",
   "mimetype": "text/x-python",
   "name": "python",
   "nbconvert_exporter": "python",
   "pygments_lexer": "ipython3",
   "version": "3.8.12"
  }
 },
 "nbformat": 4,
 "nbformat_minor": 5
}
