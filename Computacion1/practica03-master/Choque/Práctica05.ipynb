{
 "cells": [
  {
   "cell_type": "markdown",
   "metadata": {},
   "source": [
    "# PRÁCTICA 05"
   ]
  },
  {
   "cell_type": "markdown",
   "metadata": {},
   "source": [
    "# PYTHON - Estructura Iterativa - \"while\""
   ]
  },
  {
   "cell_type": "markdown",
   "metadata": {},
   "source": [
    "## 1. Estructura Iterativa - Bucle \"while\""
   ]
  },
  {
   "cell_type": "markdown",
   "metadata": {},
   "source": [
    "El bucle while puede ejecutar repetidamente un bloquede código mientras se cumpla una condición."
   ]
  },
  {
   "cell_type": "code",
   "execution_count": null,
   "metadata": {},
   "outputs": [],
   "source": [
    "while<condición>:\n",
    "    <código>\n",
    "    <código>\n",
    "........................"
   ]
  },
  {
   "cell_type": "markdown",
   "metadata": {},
   "source": [
    "El bloque de líneas de código después de los : de la sentencia while se ejecutarán siempre y cuando la condición de la sentencia while sea True."
   ]
  },
  {
   "cell_type": "markdown",
   "metadata": {},
   "source": [
    "# Desarrollo en clases:"
   ]
  },
  {
   "cell_type": "markdown",
   "metadata": {},
   "source": [
    "## Usamos while"
   ]
  },
  {
   "cell_type": "markdown",
   "metadata": {},
   "source": [
    "### Hacer un programa que imprima la tabla del 5"
   ]
  },
  {
   "cell_type": "code",
   "execution_count": 10,
   "metadata": {},
   "outputs": [
    {
     "name": "stdout",
     "output_type": "stream",
     "text": [
      "Tabla del número 5\n",
      "5 x 0 ==> 0\n",
      "5 x 1 ==> 5\n",
      "5 x 2 ==> 10\n",
      "5 x 3 ==> 15\n",
      "5 x 4 ==> 20\n",
      "5 x 5 ==> 25\n",
      "5 x 6 ==> 30\n",
      "5 x 7 ==> 35\n",
      "5 x 8 ==> 40\n",
      "5 x 9 ==> 45\n",
      "5 x 10 ==> 50\n",
      "Fin de la tabla de multiplicar\n"
     ]
    }
   ],
   "source": [
    "#\"while\" imprimiendo tabla del número 3\n",
    "contadora = 0\n",
    "print(\"Tabla del número 5\")\n",
    "#bucle while\n",
    "while contadora <=10:\n",
    "    print(f\"5 x {contadora} ==> {contadora*5}\")\n",
    "    contadora += 1\n",
    "print(\"Fin de la tabla de multiplicar\")"
   ]
  },
  {
   "cell_type": "markdown",
   "metadata": {},
   "source": [
    "### Hacer un programa que repita una frase las veces que desee, use funciones"
   ]
  },
  {
   "cell_type": "code",
   "execution_count": 2,
   "metadata": {},
   "outputs": [
    {
     "name": "stdout",
     "output_type": "stream",
     "text": [
      "Ingrese el número de veces que quiere repetir la frase: 3\n",
      "\n",
      "\n",
      "\n",
      "Debo de llegar temprano a las clase de Cómputo 1, si no el teacher se enoja\n",
      "Debo de llegar temprano a las clase de Cómputo 1, si no el teacher se enoja\n",
      "Debo de llegar temprano a las clase de Cómputo 1, si no el teacher se enoja\n"
     ]
    }
   ],
   "source": [
    "#frase que queremos repetir\n",
    "frase = \"Debo de llegar temprano a las clase de Cómputo 1, si no el teacher se enoja\"\n",
    "contadora = 0\n",
    "def repetir(n,contadora):\n",
    "    while contadora < n:\n",
    "        print(frase)\n",
    "        contadora +=1\n",
    "        \n",
    "numero=int(input(\"Ingrese el número de veces que quiere repetir la frase: \"))\n",
    "print(\"\\n\\n\")\n",
    "repetir(numero,contadora)\n"
   ]
  },
  {
   "cell_type": "markdown",
   "metadata": {},
   "source": [
    "### Hacer un programa que solicite ingreso de contraseña"
   ]
  },
  {
   "cell_type": "code",
   "execution_count": 1,
   "metadata": {},
   "outputs": [
    {
     "name": "stdout",
     "output_type": "stream",
     "text": [
      "Porfis entre con su contraseña\n",
      "666\n",
      "Al fin xd\n"
     ]
    }
   ],
   "source": [
    "contra = \"\"\n",
    "#escribimos la contraseña que queremos \n",
    "while contra != \"666\":\n",
    "    print(\"Porfis entre con su contraseña\")\n",
    "    contra = input()\n",
    "print(\"Al fin xd\")"
   ]
  },
  {
   "cell_type": "markdown",
   "metadata": {},
   "source": [
    "### Modificando la finalización del bucle while: break y continue"
   ]
  },
  {
   "cell_type": "markdown",
   "metadata": {},
   "source": [
    "#### Uso de break:"
   ]
  },
  {
   "cell_type": "markdown",
   "metadata": {},
   "source": [
    "#### Hacer un programa que valide ingreso nombre Chiviktor:"
   ]
  },
  {
   "cell_type": "code",
   "execution_count": 3,
   "metadata": {},
   "outputs": [
    {
     "name": "stdout",
     "output_type": "stream",
     "text": [
      "Ingrese su nombre \n",
      "chiviktor\n",
      "Nos vemos luego viejo\n"
     ]
    }
   ],
   "source": [
    "while True:\n",
    "    print(\"Ingrese su nombre \")\n",
    "    name = input()\n",
    "    if name.lower() == \"chiviktor\":\n",
    "        break\n",
    "        \n",
    "print(\"Nos vemos luego viejo\")"
   ]
  },
  {
   "cell_type": "markdown",
   "metadata": {},
   "source": [
    "#### Uso de continue:"
   ]
  },
  {
   "cell_type": "markdown",
   "metadata": {},
   "source": [
    "#### Hacer un programa que valide nombre y contraseña de dos listas respectivamente"
   ]
  },
  {
   "cell_type": "code",
   "execution_count": 4,
   "metadata": {},
   "outputs": [
    {
     "name": "stdout",
     "output_type": "stream",
     "text": [
      "Escriba su nombre: pepe\n",
      "\n",
      "Hola Pepe, escribe tu contraseña: \n",
      "zzzz\n",
      "\n",
      "Bienvenido a su cuenta de Fornite\n"
     ]
    }
   ],
   "source": [
    "#escribimos las 2 listas\n",
    "name =[\"pepe\", \"marti\", \"vi\", \"floyd\", \"otto\"]\n",
    "contra = [\"zzzz\", \"303\", \"badaga\", \"gozu\", \"edgy\"]\n",
    "while True:\n",
    "    nom = input(\"Escriba su nombre: \")\n",
    "    if nom not in name:\n",
    "        continue\n",
    "    print(f\"\\nHola {nom.title()}, escribe tu contraseña: \")\n",
    "    password = input()\n",
    "    if password in contra:\n",
    "        print(\"\\nBienvenido a su cuenta de Fornite\")\n",
    "        break\n",
    "    else:\n",
    "        print(\"\\nUsuario no existente\")\n",
    "        break"
   ]
  },
  {
   "cell_type": "markdown",
   "metadata": {},
   "source": [
    "# Fin de desarrollo de clase"
   ]
  },
  {
   "cell_type": "markdown",
   "metadata": {},
   "source": [
    "# Inicio de ejemplos:\n"
   ]
  },
  {
   "cell_type": "markdown",
   "metadata": {},
   "source": [
    "## Estructura iterativa while"
   ]
  },
  {
   "cell_type": "markdown",
   "metadata": {},
   "source": [
    "### Hacer un programa que busque el número 8 dentro de una lista de números, si se encuentra, que imprima el índice dentro de la lista"
   ]
  },
  {
   "cell_type": "code",
   "execution_count": 5,
   "metadata": {},
   "outputs": [
    {
     "name": "stdout",
     "output_type": "stream",
     "text": [
      "El número 8 fue encontrado en el indice 4\n"
     ]
    }
   ],
   "source": [
    "numeros = [2, 3, 9, 6, 8, 1]\n",
    "hallado = False\n",
    "indice = 0\n",
    "longitud = len(numeros)\n",
    "while not hallado and indice < longitud:\n",
    "    numero = numeros[indice]\n",
    "    if numero == 8:\n",
    "        hallado = True\n",
    "    else:\n",
    "        indice += 1\n",
    "if hallado:\n",
    "    print(f\"El número 8 fue encontrado en el indice {indice}\")\n",
    "else:\n",
    "    print(\"El número 8 no está en la lista de números\")"
   ]
  },
  {
   "cell_type": "markdown",
   "metadata": {},
   "source": [
    "### Hacer un programa que solicite el ingreso de contraseña con intentos limitados"
   ]
  },
  {
   "cell_type": "code",
   "execution_count": 6,
   "metadata": {},
   "outputs": [
    {
     "name": "stdout",
     "output_type": "stream",
     "text": [
      "Escriba su contraseña \n",
      "Solo tiene 2 intentos: \n",
      "heil hitler\n",
      " GOD NAZI\n"
     ]
    }
   ],
   "source": [
    "#ingresamos contra\n",
    "contra = \"\"\n",
    "#si no tengo contador while true:\n",
    "conta = 0\n",
    "while contra != \"heil hitler\":\n",
    "    conta += 1\n",
    "    print(\"Escriba su contraseña \\nSolo tiene 2 intentos: \")\n",
    "    contra = input()\n",
    "    if conta == 2:\n",
    "        print(\"Sus intentos han finalizado, bay Hitler :( \")\n",
    "        break\n",
    "if conta !=2:\n",
    "    print(\" GOD NAZI\")\n"
   ]
  },
  {
   "cell_type": "markdown",
   "metadata": {},
   "source": [
    "### Imprime la secuencia 3x+1 desde un número X, terminando cundo llegue a 1."
   ]
  },
  {
   "cell_type": "code",
   "execution_count": 38,
   "metadata": {},
   "outputs": [
    {
     "name": "stdout",
     "output_type": "stream",
     "text": [
      "Ingrese numero de inicio x: 7\n",
      "7, 22, 11, 34, 17, 52, 26, 13, 40, 20, 10, 5, 16, 8, 4, 2, 1.\n"
     ]
    }
   ],
   "source": [
    "def numerogod(x):\n",
    "    while x != 1:\n",
    "        print(x, end=\", \")\n",
    "        if x % 2 ==0:\n",
    "            x = x // 2\n",
    "        else:\n",
    "            x = x * 3 + 1\n",
    "    print(x, end=\".\\n\")\n",
    "num = int(input(\"Ingrese numero de inicio x: \"))\n",
    "numerogod(num)"
   ]
  },
  {
   "cell_type": "markdown",
   "metadata": {},
   "source": [
    "### Hacer un programa con función que cuenta el número de dígitos que son 2 o 7 en un entero o positivo:\n"
   ]
  },
  {
   "cell_type": "code",
   "execution_count": 7,
   "metadata": {},
   "outputs": [
    {
     "name": "stdout",
     "output_type": "stream",
     "text": [
      "Ingrese un numero que contenga los digitos \"2\" y \"7\" : ==> 54213218654746132\n",
      "\n",
      "\n",
      "\tLa cantidad de digitos \"2\" y \"7\" en el numero  54213218654746132 es: ",
      "==> 4\n"
     ]
    }
   ],
   "source": [
    "#creamos la funcion\n",
    "def nudi(f):\n",
    "    count = 0\n",
    "    while f > 0:\n",
    "        digito = f % 10\n",
    "        if digito == 2 or digito == 7:\n",
    "            count = count + 1\n",
    "        f = f // 10 \n",
    "    return count\n",
    "#solicitamos el numero\n",
    "num = int(input('Ingrese un numero que contenga los digitos \"2\" y \"7\" : ==> '))\n",
    "cantidad =nudi(num)  \n",
    "#imprimir resultado\n",
    "print('\\n\\n\\tLa cantidad de digitos \"2\" y \"7\" en el numero ',num,'es: ",
    "==>',cantidad)"
   ]
  },
  {
   "cell_type": "markdown",
   "metadata": {},
   "source": [
    "## Eso es to, eso es to, eso es todo amigo"
   ]
  },
  {
   "cell_type": "markdown",
   "metadata": {},
   "source": [
    "## Fin de los ejemplos"
   ]
  }
 ],
 "metadata": {
  "kernelspec": {
   "display_name": "Python 3",
   "language": "python",
   "name": "python3"
  },
  "language_info": {
   "codemirror_mode": {
    "name": "ipython",
    "version": 3
   },
   "file_extension": ".py",
   "mimetype": "text/x-python",
   "name": "python",
   "nbconvert_exporter": "python",
   "pygments_lexer": "ipython3",
   "version": "3.8.12"
  }
 },
 "nbformat": 4,
 "nbformat_minor": 5
}
