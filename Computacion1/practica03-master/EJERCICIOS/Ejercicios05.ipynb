{
 "cells": [
  {
   "attachments": {
    "WhatsApp%20Image%202021-10-14%20at%2018.39.32.jpeg": {
     "image/jpeg": "[encoded data removed]"
    }
   },
   "cell_type": "markdown",
   "metadata": {},
   "source": [
    "![WhatsApp%20Image%202021-10-14%20at%2018.39.32.jpeg](attachment:WhatsApp%20Image%202021-10-14%20at%2018.39.32.jpeg)"
   ]
  },
  {
   "cell_type": "markdown",
   "metadata": {},
   "source": [
    "# <center>EJERCICIOS</center>"
   ]
  },
  {
   "cell_type": "markdown",
   "metadata": {},
   "source": [
    "**EJERCICIO 1:** Hacer un programa que ingrese por teclado un número inicial y un número final para generar un rango (una la lista consecutiva de números que inicia y termina de acuerdo a los números ingresados):\n",
    "+ Imprimir de cada número si es par o impar (recorrer la lista)\n",
    "+ Utilizando el operador % \n",
    "+ Utilizar while y funciones de verificación"
   ]
  },
  {
   "cell_type": "code",
   "execution_count": 1,
   "metadata": {},
   "outputs": [
    {
     "name": "stdout",
     "output_type": "stream",
     "text": [
      "Ingrese un número entero inicial:5\n",
      "Ingrese un número entero final:9\n",
      "\n",
      "\n",
      "5 es un número impar\n",
      "6 es un numero par\n",
      "7 es un número impar\n",
      "8 es un numero par\n",
      "9 es un número impar\n"
     ]
    }
   ],
   "source": [
    "n = int(input(\"Ingrese un número entero inicial:\"))\n",
    "m = int(input(\"Ingrese un número entero final:\"))\n",
    "print(\"\\n\")\n",
    "\n",
    "contador = n-1\n",
    "def par(contador):\n",
    "    print(f\"{contador} es un numero par\")\n",
    "    \n",
    "for i in range(n, m):\n",
    "    while contador < m:\n",
    "        contador += 1\n",
    "        if contador %2 == 0: \n",
    "            par(contador)\n",
    "        else:\n",
    "            print(contador, \"es un número impar\")\n",
    "            "
   ]
  },
  {
   "cell_type": "markdown",
   "metadata": {},
   "source": [
    "**EJERCICIO 2:** Hacer un programa que imprima la tabla completa de multiplicar de un número que se ingresa por teclado:\n",
    "+ Primero se debe solicitar un número\n",
    "+ Que imprima por pantalla las tablas de multiplicar del 1 al 10 de dicho número ingreado por teclado\n",
    "+ Utilizar while y funciones"
   ]
  },
  {
   "cell_type": "code",
   "execution_count": 4,
   "metadata": {},
   "outputs": [
    {
     "name": "stdout",
     "output_type": "stream",
     "text": [
      "Digite un numero entero: 8\n",
      "8 x 1 = 8\n",
      "8 x 2 = 16\n",
      "8 x 3 = 24\n",
      "8 x 4 = 32\n",
      "8 x 5 = 40\n",
      "8 x 6 = 48\n",
      "8 x 7 = 56\n",
      "8 x 8 = 64\n",
      "8 x 9 = 72\n",
      "8 x 10 = 80\n"
     ]
    }
   ],
   "source": [
    "#Primero solicitamos un numero para lo cual digitamos lo siguiente:\n",
    "numero = int(input('Digite un numero entero: '))\n",
    "\n",
    "#Luego realizamos la funcion \n",
    "def tabl():\n",
    "    if numero > 0:\n",
    "            \n",
    "        w = 1\n",
    "            \n",
    "        while w < 11:\n",
    "                \n",
    "            print(numero, \"x\", w, \"=\", numero*w)\n",
    "            w += 1\n",
    "                                      \n",
    "    else:\n",
    "        print(\"El numero ingresado no es correcto.Intentelo nuevamente.\")\n",
    "tabl()"
   ]
  },
  {
   "cell_type": "markdown",
   "metadata": {},
   "source": [
    "**EJERCICIO 3:** Hacer un programa que solicite el ingreso de un nombre y apellido:\n",
    "+ Que verifique que el nombre y/o apellido no contenga ningun numero\n",
    "+ Que verifique que el nombre y/o apellido no contenga ningun simbolo extraño\n",
    "+ Si detecta que el nombre y/o apellido que no es un válido, que solicite que vuelva a ingresar su nombre y/o apellido\n",
    "+ Utilizar for y funciones"
   ]
  },
  {
   "cell_type": "code",
   "execution_count": 5,
   "metadata": {},
   "outputs": [
    {
     "name": "stdout",
     "output_type": "stream",
     "text": [
      "Buenos días, complete los siguientes pasos\n",
      "Ingrese su nombre Adolfo15\n",
      "Evite usar símbolos y números en el nombre \n",
      "Vuelva a ingresar su nombre\n",
      "Adolfo\n",
      "Su nombre es correcto\n",
      "Ingrese su apellidoHitler$\n",
      "Evite usar símbolos y numeros en el apellido \n",
      "Vuelva a ingresar su apellido\n",
      "Hitler\n",
      "Su apellido es correcto \n"
     ]
    }
   ],
   "source": [
    "print(\"Buenos días, complete los siguientes pasos\")\n",
    "#Creamos la primera función para el nombre\n",
    "nbr = input(\"Ingrese su nombre \")\n",
    "def primero(nbr): \n",
    "    while True:\n",
    "        if nbr.isalpha(): #Utilizamos \"isalpha\" ya que solo permite letras, en caso de encontrar otro carácter\n",
    "                          #lo devolverá como falso hasta que se cumpla que solo haya letras. Lo mismo podriamos\n",
    "                          #con \"isdigit\" en caso de solo números.\n",
    "            print(\"Su nombre es correcto\")\n",
    "            break          \n",
    "        else:\n",
    "            print(\"Evite usar símbolos y números en el nombre \\nVuelva a ingresar su nombre\")\n",
    "            nbr = input(\"\")\n",
    "primero(nbr)\n",
    "\n",
    "#Una vez que se cumpla la primera función, pasará a la siguiente\n",
    "#Creamos la segunda función para el apellido\n",
    "pld = input(\"Ingrese su apellido\")           \n",
    "def segundo(pld):           \n",
    "    while True:\n",
    "        if pld.isalpha():\n",
    "            print(\"Su apellido es correcto \")\n",
    "            break\n",
    "        else:\n",
    "            print(\"Evite usar símbolos y numeros en el apellido \\nVuelva a ingresar su apellido\")\n",
    "            pld = input(\"\")\n",
    "                             \n",
    "segundo(pld)"
   ]
  },
  {
   "cell_type": "markdown",
   "metadata": {},
   "source": [
    "**EJERCICIO 4:** Hacer un programa que ingrese por teclado un número inicial de 3 cifras y un número final de 4 cifras para generar un rango (una la lista consecutiva de números que inicia y termina de acuerdo a los números ingresados):\n",
    "+ Imprimir de cada número si Capicúa (recorrer la lista)\n",
    "+ Utilizar while y funciones de verificación"
   ]
  },
  {
   "cell_type": "code",
   "execution_count": 9,
   "metadata": {},
   "outputs": [
    {
     "name": "stdout",
     "output_type": "stream",
     "text": [
      "Hola. Por favor: \n",
      "Ingrese un numero (min) de 3 cifras: 999\n",
      "Ingrese un numero (max) de 4 cifras: 1000\n",
      "999 \n",
      "\n",
      "Muchas gracias, que tenga un buen dia!\n"
     ]
    }
   ],
   "source": [
    "def invertir(n):\n",
    "    numero = 0\n",
    "    while n != 0:\n",
    "        numero = 10*numero+n % 10\n",
    "        n //= 10\n",
    "    return numero\n",
    "               \n",
    "print(\"Hola. Por favor: \")    \n",
    "a = int(input(\"Ingrese un numero (min) de 3 cifras: \")) \n",
    "b = int(input(\"Ingrese un numero (max) de 4 cifras: \"))\n",
    "\n",
    "for numero in range(a,b+1):\n",
    "    invertir(numero)\n",
    "    if numero == invertir(numero):\n",
    "        capicua = invertir(numero)\n",
    "        print(capicua,\"\", end=\"\")\n",
    "     \n",
    "print('\\n\\nMuchas gracias, que tenga un buen dia!')"
   ]
  },
  {
   "cell_type": "markdown",
   "metadata": {},
   "source": [
    "**EJERCICIO 5:** Hacer un programa que solicite el ingreso del DNI de un ciudadano:\n",
    "+ Que verifique que el DNI no contenga letras del abecedario\n",
    "+ Que verifique que el DNI no contenga ningun simbolo extraño\n",
    "+ Que verifique que el DNI solo tenga 8 númerosSi detecta que el DNI no es válido, que solicite que vuelva a ingresar su DNI\n",
    "+ Utilizar while y funciones"
   ]
  },
  {
   "cell_type": "code",
   "execution_count": null,
   "metadata": {},
   "outputs": [
    {
     "name": "stdout",
     "output_type": "stream",
     "text": [
      "Buen día\n",
      "\n",
      "Ingrese su número de DNI: 24545424j\n",
      "\n",
      "\t  No válido, recuerde que tiene que digitar 8 NÚMEROS intente de nuevo\n",
      "\n",
      "Ingrese su número de DNI: {412454\n",
      "\n",
      "\t  No válido, recuerde que tiene que digitar 8 NÚMEROS intente de nuevo\n",
      "\n",
      "Ingrese su número de DNI: 45687732\n"
     ]
    }
   ],
   "source": [
    "\n",
    "b= [\"A\",\"/\",\"B\",\"C\",\"D\",\"E\",\"F\",\"G\",\"H\",\"I\",\"J\",\"K\",\"L\",\"M\",\"N\",\"Ñ\",\"O\",\"P\",\"Q\",\"R\",\"S\",\"T\",\"U\",\"V\",\"W\",\"X\",\"Y\",\"Z\",'?','!','$','%','&','/','ª','º', '-',\"-\", \"_\",\"a\",\"b\",\"c\",\"d\",\"e\",\"f\",\"g\",\"h\",\"i\",\"j\",\"k\",\"l\",\"m\",\"n\",\"ñ\",\"o\",\"p\",\"q\",\"r\",\"s\",\"t\",\"u\",\"v\",\"w\",\"x\",\"y\",\"z\"]\n",
    "\n",
    "print(\"Buen día\")\n",
    "\n",
    "def valid_dni(num):\n",
    "    while True:\n",
    "        \n",
    "        if num in b:\n",
    "            print(\" \\n\\t Entrada digitada incorrecta, recuerde que solo son 8 números, intente de nuevo\")\n",
    "            return numdni()\n",
    "        if len(num) == 8:\n",
    "            pass\n",
    "        else:\n",
    "            print(\"\\n\\t  No válido, recuerde que tiene que digitar 8 NÚMEROS intente de nuevo\")\n",
    "            return numdni()\n",
    "        \n",
    "def numdni():\n",
    "    num = input(\"\\nIngrese su número de DNI: \")\n",
    "    valid_dni(num) \n",
    "\n",
    "numdni()"
   ]
  },
  {
   "cell_type": "code",
   "execution_count": null,
   "metadata": {},
   "outputs": [],
   "source": []
  }
 ],
 "metadata": {
  "kernelspec": {
   "display_name": "Python 3",
   "language": "python",
   "name": "python3"
  },
  "language_info": {
   "codemirror_mode": {
    "name": "ipython",
    "version": 3
   },
   "file_extension": ".py",
   "mimetype": "text/x-python",
   "name": "python",
   "nbconvert_exporter": "python",
   "pygments_lexer": "ipython3",
   "version": "3.8.12"
  }
 },
 "nbformat": 4,
 "nbformat_minor": 5
}
