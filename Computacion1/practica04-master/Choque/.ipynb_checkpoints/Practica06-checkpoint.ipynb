{
 "cells": [
  {
   "cell_type": "markdown",
   "metadata": {},
   "source": [
    "# PRÁCTICA 06\n",
    "\n",
    "# PYTHON - FUNCIONES Y EXCEPCIONES"
   ]
  },
  {
   "cell_type": "markdown",
   "metadata": {},
   "source": [
    "## INICIO DEL DESARROLLO"
   ]
  },
  {
   "cell_type": "markdown",
   "metadata": {},
   "source": [
    "## 1. Estructura Excepciones"
   ]
  },
  {
   "cell_type": "code",
   "execution_count": null,
   "metadata": {},
   "outputs": [],
   "source": [
    "try:\n",
    "    <código>\n",
    "    <código>\n",
    "    ..........\n",
    "\n",
    "except:\n",
    "    <código>\n",
    "    <código>\n",
    "    .........."
   ]
  },
  {
   "cell_type": "markdown",
   "metadata": {},
   "source": [
    "### Típicos errores:"
   ]
  },
  {
   "cell_type": "code",
   "execution_count": 3,
   "metadata": {},
   "outputs": [
    {
     "ename": "ZeroDivisionError",
     "evalue": "division by zero",
     "output_type": "error",
     "traceback": [
      "\u001b[0;31m---------------------------------------------------------------------------\u001b[0m",
      "\u001b[0;31mZeroDivisionError\u001b[0m                         Traceback (most recent call last)",
      "\u001b[0;32m/tmp/ipykernel_2172/2863711451.py\u001b[0m in \u001b[0;36m<module>\u001b[0;34m\u001b[0m\n\u001b[0;32m----> 1\u001b[0;31m \u001b[0;36m9\u001b[0m\u001b[0;34m/\u001b[0m\u001b[0;36m0\u001b[0m\u001b[0;34m\u001b[0m\u001b[0;34m\u001b[0m\u001b[0m\n\u001b[0m\u001b[1;32m      2\u001b[0m \u001b[0mx\u001b[0m \u001b[0;34m=\u001b[0m \u001b[0;36m16\u001b[0m\u001b[0;34m\u001b[0m\u001b[0;34m\u001b[0m\u001b[0m\n\u001b[1;32m      3\u001b[0m \u001b[0mprint\u001b[0m\u001b[0;34m(\u001b[0m\u001b[0mx\u001b[0m\u001b[0;34m)\u001b[0m\u001b[0;34m\u001b[0m\u001b[0;34m\u001b[0m\u001b[0m\n",
      "\u001b[0;31mZeroDivisionError\u001b[0m: division by zero"
     ]
    }
   ],
   "source": [
    "9/0\n",
    "x = 16\n",
    "print(x)"
   ]
  },
  {
   "cell_type": "markdown",
   "metadata": {},
   "source": [
    "ZeroDivisionError: Se genera cuando el segundo argumento de una operación de división o módulo es\n",
    "cero. El valor asociado es una cadena que indica el tipo de operandos y la operación."
   ]
  },
  {
   "cell_type": "code",
   "execution_count": 4,
   "metadata": {},
   "outputs": [
    {
     "name": "stdout",
     "output_type": "stream",
     "text": [
      "roberto\n"
     ]
    },
    {
     "ename": "ValueError",
     "evalue": "invalid literal for int() with base 10: 'roberto'",
     "output_type": "error",
     "traceback": [
      "\u001b[0;31m---------------------------------------------------------------------------\u001b[0m",
      "\u001b[0;31mValueError\u001b[0m                                Traceback (most recent call last)",
      "\u001b[0;32m/tmp/ipykernel_2172/1310846984.py\u001b[0m in \u001b[0;36m<module>\u001b[0;34m\u001b[0m\n\u001b[0;32m----> 1\u001b[0;31m \u001b[0mf\u001b[0m \u001b[0;34m=\u001b[0m \u001b[0mint\u001b[0m\u001b[0;34m(\u001b[0m\u001b[0minput\u001b[0m\u001b[0;34m(\u001b[0m\u001b[0;34m)\u001b[0m\u001b[0;34m)\u001b[0m\u001b[0;34m\u001b[0m\u001b[0;34m\u001b[0m\u001b[0m\n\u001b[0m\u001b[1;32m      2\u001b[0m \u001b[0mx\u001b[0m \u001b[0;34m=\u001b[0m \u001b[0;36m66\u001b[0m\u001b[0;34m\u001b[0m\u001b[0;34m\u001b[0m\u001b[0m\n\u001b[1;32m      3\u001b[0m \u001b[0mprint\u001b[0m\u001b[0;34m(\u001b[0m\u001b[0mx\u001b[0m\u001b[0;34m)\u001b[0m\u001b[0;34m\u001b[0m\u001b[0;34m\u001b[0m\u001b[0m\n",
      "\u001b[0;31mValueError\u001b[0m: invalid literal for int() with base 10: 'roberto'"
     ]
    }
   ],
   "source": [
    "f = int(input())\n",
    "x = 66\n",
    "print(x)"
   ]
  },
  {
   "cell_type": "markdown",
   "metadata": {},
   "source": [
    "ValueError: Se genera cuando se aplica una operación o función a un objeto de tipo inadecuado. El valor\n",
    "asociado es una cadena que proporciona detalles sobre la falta de coincidencia de tipos."
   ]
  },
  {
   "cell_type": "markdown",
   "metadata": {},
   "source": [
    "### Validación de números:"
   ]
  },
  {
   "cell_type": "code",
   "execution_count": 9,
   "metadata": {},
   "outputs": [
    {
     "name": "stdout",
     "output_type": "stream",
     "text": [
      "Ingrese un número cualquiera: dlkasjdlaksjd\n",
      "El número que usted a ingresado no es válido\n",
      "Ingrese un número cualquiera: oe khe?\n",
      "El número que usted a ingresado no es válido\n",
      "Ingrese un número cualquiera: 666\n",
      "Correcto karnal, si le sabes\n"
     ]
    }
   ],
   "source": [
    "#validar ingreso de números enteros\n",
    "while True:\n",
    "    try:\n",
    "        f = int(input(\"Ingrese un número cualquiera: \"))\n",
    "        print(\"Correcto karnal, si le sabes\")\n",
    "        break\n",
    "    except ValueError:\n",
    "        print(\"El número que usted a ingresado no es válido\")"
   ]
  },
  {
   "cell_type": "markdown",
   "metadata": {},
   "source": [
    "### Validación de números y otra condición:"
   ]
  },
  {
   "cell_type": "code",
   "execution_count": 11,
   "metadata": {},
   "outputs": [
    {
     "name": "stdout",
     "output_type": "stream",
     "text": [
      "Ingrese un número positivo: zzzzzzz!!!!!!\n",
      "El número que usted a ingresado no es válido\n",
      "Ingrese un número positivo: -303\n",
      "Correcto karnal, si le sabes\n",
      "\t Que ingrese un número positivo\n",
      "Ingrese un número positivo: 777\n",
      "Correcto karnal, si le sabes\n"
     ]
    }
   ],
   "source": [
    "#validar ingreso de números enteros positivos\n",
    "while True:\n",
    "    try:\n",
    "        f = int(input(\"Ingrese un número positivo: \"))\n",
    "        print(\"Correcto karnal, si le sabes\")\n",
    "    except ValueError:\n",
    "        print(\"El número que usted a ingresado no es válido\")\n",
    "        continue\n",
    "    if f < 0:\n",
    "        print(\"\\t Que ingrese un número positivo\")\n",
    "        continue\n",
    "    break"
   ]
  },
  {
   "cell_type": "markdown",
   "metadata": {},
   "source": [
    "## 2. Estructura Funciones"
   ]
  },
  {
   "cell_type": "code",
   "execution_count": null,
   "metadata": {},
   "outputs": [],
   "source": [
    "def name_de_func(<argu, s>):\n",
    "    <código>\n",
    "    <código>\n",
    "    ..................."
   ]
  },
  {
   "cell_type": "markdown",
   "metadata": {},
   "source": [
    "El bloque de líneas de código despues de los : de la función se ejecutarán al momento de llamar a\n",
    "la dicha función."
   ]
  },
  {
   "cell_type": "markdown",
   "metadata": {},
   "source": [
    "### Función Principal  main"
   ]
  },
  {
   "cell_type": "code",
   "execution_count": 17,
   "metadata": {},
   "outputs": [
    {
     "name": "stdout",
     "output_type": "stream",
     "text": [
      "Iniciando el programa\n",
      "A medias del programa\n",
      "Iniciando el programa\n",
      "A medias del programa\n",
      "\n",
      " Fin del programa :(\n",
      "\n",
      " Fin del programa :(\n"
     ]
    }
   ],
   "source": [
    "#inicio mis programas con varias funciones\n",
    "def one():\n",
    "    print(\"Iniciando el programa\")\n",
    "\n",
    "def two():\n",
    "    print(\"A medias del programa\")\n",
    "\n",
    "def three():\n",
    "    print(\"\\n Fin del programa :(\")\n",
    "#función principal main\n",
    "\n",
    "if __name__ == \"__main__\":\n",
    "    one()\n",
    "    two()\n",
    "    one()\n",
    "    two()\n",
    "    three()\n",
    "    three()"
   ]
  },
  {
   "cell_type": "markdown",
   "metadata": {},
   "source": [
    "### Hacer un programa que solicite ingreso de DNI correctamente:"
   ]
  },
  {
   "cell_type": "code",
   "execution_count": 20,
   "metadata": {},
   "outputs": [
    {
     "name": "stdout",
     "output_type": "stream",
     "text": [
      "************ Bono COVID-19 para todos*************\n",
      "\n",
      "\n",
      "\n",
      "Ingrese su número de DNI: kdajsldkajsd\n",
      "ERROR!!! DNI no válido, intenta de nuevo\n",
      "Ingrese su número de DNI: dslakjdals\n",
      "ERROR!!! DNI no válido, intenta de nuevo\n",
      "Ingrese su número de DNI: 45484121654554\n",
      "Longitud de DNI no válido, vuelva a intentarlo\n",
      "Ingrese su número de DNI: dsdasd\n",
      "ERROR!!! DNI no válido, intenta de nuevo\n",
      "Ingrese su número de DNI: 98765432\n",
      "Muy bien, DNI válido\n",
      "\n",
      "El número ingresado es:   98765432\n"
     ]
    }
   ],
   "source": [
    "#mi primera función valiar DNI\n",
    "def n_dni():\n",
    "    while True:\n",
    "        try:\n",
    "            dni = int(input(\"Ingrese su número de DNI: \"))\n",
    "            if len(str(dni)) == 8:\n",
    "                print(\"Muy bien, DNI válido\")\n",
    "                break\n",
    "            else:\n",
    "                print(\"Longitud de DNI no válido, vuelva a intentarlo\")\n",
    "                continue\n",
    "        \n",
    "        except ValueError:\n",
    "            print(\"ERROR!!! DNI no válido, intenta de nuevo\")\n",
    "    return dni\n",
    "    \n",
    "\n",
    "#programa MAIN principal\n",
    "if __name__ == \"__main__\":\n",
    "    titulo = (\" Bono COVID-19 para todos\")\n",
    "    print(titulo.center(50,\"*\"))\n",
    "    print(\"\\n\\n\")\n",
    "    number_dni = n_dni()\n",
    "    print(\"\\nEl número ingresado es:  \",number_dni)"
   ]
  },
  {
   "cell_type": "markdown",
   "metadata": {},
   "source": [
    "## FIN DEL DESARROLLO :("
   ]
  },
  {
   "cell_type": "markdown",
   "metadata": {},
   "source": [
    "## INICIANDO CON LOS EJEMPLOS :D"
   ]
  },
  {
   "cell_type": "markdown",
   "metadata": {},
   "source": [
    "### Hacer un programa que imprima un menú deopciones y que valide correctamente los ingresos:\n"
   ]
  },
  {
   "cell_type": "code",
   "execution_count": 24,
   "metadata": {},
   "outputs": [
    {
     "name": "stdout",
     "output_type": "stream",
     "text": [
      "\u001b[H\u001b[2J*******************Menu Genral********************\n",
      "\n",
      "\n",
      "\n",
      "Seleciione una opción\n",
      "\t1 - Primera opción\n",
      "\t2 - Segunda opción\n",
      "\t3 - Tercera opción\n",
      "\t9 - Salir\n",
      "Inserte un número válido3\n",
      "\n",
      "Has elegido la opción 3 \n",
      "pulsa unsa tecla para continuar 2\n",
      "\u001b[H\u001b[2J*******************Menu Genral********************\n",
      "\n",
      "\n",
      "\n",
      "Seleciione una opción\n",
      "\t1 - Primera opción\n",
      "\t2 - Segunda opción\n",
      "\t3 - Tercera opción\n",
      "\t9 - Salir\n",
      "Inserte un número válidofsdfsd\n",
      "\n",
      "No has elegido una opción válida \n",
      "pulsa una tecla para continuar234\"#$\"#\n",
      "\u001b[H\u001b[2J*******************Menu Genral********************\n",
      "\n",
      "\n",
      "\n",
      "Seleciione una opción\n",
      "\t1 - Primera opción\n",
      "\t2 - Segunda opción\n",
      "\t3 - Tercera opción\n",
      "\t9 - Salir\n",
      "Inserte un número válido2\n",
      "\n",
      "Has elegido la opción 2 \n",
      "pulsa unsa tecla para continuar 9\n",
      "\u001b[H\u001b[2J*******************Menu Genral********************\n",
      "\n",
      "\n",
      "\n",
      "Seleciione una opción\n",
      "\t1 - Primera opción\n",
      "\t2 - Segunda opción\n",
      "\t3 - Tercera opción\n",
      "\t9 - Salir\n",
      "Inserte un número válido9\n",
      "A finalizado el programa!!\n"
     ]
    }
   ],
   "source": [
    "#libreria del sistema operativo\n",
    "import os\n",
    "\n",
    "def minu():\n",
    "    \"\"\"\n",
    "    FUnción que limpia la pantalla y muestra nuevamente el menu\n",
    "    \"\"\"\n",
    "    os.system(\"clear\") \n",
    "    titule= (\"Menu Genral\")\n",
    "    print(titule.center(50,\"*\"))\n",
    "    print(\"\\n\\n\")\n",
    "    print(\"Seleciione una opción \")\n",
    "    print(\"\\t1 - Primera opción\")\n",
    "    print(\"\\t2 - Segunda opción\")\n",
    "    print(\"\\t3 - Tercera opción\")\n",
    "    print(\"\\t9 - Salir\")\n",
    "    \n",
    "def vali():\n",
    "    while True:\n",
    "        minu()\n",
    "        \n",
    "        opcionesmin = input(\"Inserte un número válido \")\n",
    "        \n",
    "        if opcionesmin == \"1\":\n",
    "            print(\"\")\n",
    "            input(\"Has elegido la opción 1 \\npulsa unsa tecla para continuar \")\n",
    "        elif opcionesmin == \"2\":\n",
    "            print(\"\")\n",
    "            input(\"Has elegido la opción 2 \\npulsa unsa tecla para continuar \")\n",
    "        elif opcionesmin == \"3\":\n",
    "            print(\"\")\n",
    "            input(\"Has elegido la opción 3 \\npulsa unsa tecla para continuar \")\n",
    "        elif opcionesmin == \"9\":\n",
    "            break\n",
    "        else:\n",
    "            print(\"\")\n",
    "            input(\"No has elegido una opción válida \\npulsa una tecla para continuar\")\n",
    "            \n",
    "    return opcionesmin\n",
    "\n",
    "\n",
    "if __name__ == \"__main__\":\n",
    "    vali()\n",
    "    print(\"A finalizado el programa!!\")\n",
    "        "
   ]
  },
  {
   "cell_type": "markdown",
   "metadata": {},
   "source": [
    "## Eso fue to, eso fue to, eso fue todo amigos ;)"
   ]
  }
 ],
 "metadata": {
  "kernelspec": {
   "display_name": "Python 3",
   "language": "python",
   "name": "python3"
  },
  "language_info": {
   "codemirror_mode": {
    "name": "ipython",
    "version": 3
   },
   "file_extension": ".py",
   "mimetype": "text/x-python",
   "name": "python",
   "nbconvert_exporter": "python",
   "pygments_lexer": "ipython3",
   "version": "3.8.12"
  }
 },
 "nbformat": 4,
 "nbformat_minor": 5
}
